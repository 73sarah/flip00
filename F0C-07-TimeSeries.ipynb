{
 "cells": [
  {
   "cell_type": "markdown",
   "metadata": {},
   "source": [
    "# FLIP (00): Data Science \n",
    "**(Module 02: Data Visualization)**\n",
    "\n",
    "---\n",
    "- Materials in this module include resources collected from various open-source online repositories.\n",
    "- You are free to use,but NOT allowed to change and distribute this package.\n",
    "\n",
    "Prepared by and for \n",
    "**Student Members** |\n",
    "2006-2018 [TULIP Lab](http://www.tulip.org.au), Australia\n",
    "\n",
    "---\n",
    "\n",
    "\n",
    "# Session H - Time Series\n",
    "\n",
    "This lesson, we will learn how to handle time data with a stock case,including reading the time series,DateOffset and TimeDelta,Time Series Function.\n",
    "\n",
    "\n"
   ]
  },
  {
   "cell_type": "code",
   "execution_count": 1,
   "metadata": {},
   "outputs": [],
   "source": [
    "import pandas as pd\n",
    "import numpy as np\n",
    "\n",
    "import matplotlib.pyplot as plt\n",
    "import seaborn as sns\n",
    "from datetime import datetime\n",
    "\n",
    "sns.set_style('whitegrid')\n",
    "%matplotlib inline\n",
    "pd.set_option('display.max_columns', 10)\n",
    "pd.set_option('display.max_rows', 10)"
   ]
  },
  {
   "cell_type": "markdown",
   "metadata": {},
   "source": [
    "### Read the time series"
   ]
  },
  {
   "cell_type": "code",
   "execution_count": 8,
   "metadata": {},
   "outputs": [
    {
     "data": {
      "text/html": [
       "<div>\n",
       "<style scoped>\n",
       "    .dataframe tbody tr th:only-of-type {\n",
       "        vertical-align: middle;\n",
       "    }\n",
       "\n",
       "    .dataframe tbody tr th {\n",
       "        vertical-align: top;\n",
       "    }\n",
       "\n",
       "    .dataframe thead th {\n",
       "        text-align: right;\n",
       "    }\n",
       "</style>\n",
       "<table border=\"1\" class=\"dataframe\">\n",
       "  <thead>\n",
       "    <tr style=\"text-align: right;\">\n",
       "      <th></th>\n",
       "      <th>date</th>\n",
       "      <th>open</th>\n",
       "      <th>high</th>\n",
       "      <th>close</th>\n",
       "      <th>low</th>\n",
       "      <th>...</th>\n",
       "      <th>ma10</th>\n",
       "      <th>ma20</th>\n",
       "      <th>v_ma5</th>\n",
       "      <th>v_ma10</th>\n",
       "      <th>v_ma20</th>\n",
       "    </tr>\n",
       "  </thead>\n",
       "  <tbody>\n",
       "    <tr>\n",
       "      <th>0</th>\n",
       "      <td>2016-12-23</td>\n",
       "      <td>3333.400</td>\n",
       "      <td>3334.890</td>\n",
       "      <td>3307.600</td>\n",
       "      <td>3300.880</td>\n",
       "      <td>...</td>\n",
       "      <td>3349.948</td>\n",
       "      <td>3429.937</td>\n",
       "      <td>93437446.4</td>\n",
       "      <td>110550392.0</td>\n",
       "      <td>139164898.4</td>\n",
       "    </tr>\n",
       "    <tr>\n",
       "      <th>1</th>\n",
       "      <td>2016-12-22</td>\n",
       "      <td>3335.120</td>\n",
       "      <td>3340.360</td>\n",
       "      <td>3335.670</td>\n",
       "      <td>3322.720</td>\n",
       "      <td>...</td>\n",
       "      <td>3368.558</td>\n",
       "      <td>3440.622</td>\n",
       "      <td>92103587.2</td>\n",
       "      <td>115836250.4</td>\n",
       "      <td>141973738.0</td>\n",
       "    </tr>\n",
       "    <tr>\n",
       "      <th>2</th>\n",
       "      <td>2016-12-21</td>\n",
       "      <td>3313.750</td>\n",
       "      <td>3342.480</td>\n",
       "      <td>3338.540</td>\n",
       "      <td>3313.750</td>\n",
       "      <td>...</td>\n",
       "      <td>3382.005</td>\n",
       "      <td>3448.276</td>\n",
       "      <td>96640270.4</td>\n",
       "      <td>118346918.4</td>\n",
       "      <td>144647190.8</td>\n",
       "    </tr>\n",
       "    <tr>\n",
       "      <th>3</th>\n",
       "      <td>2016-12-20</td>\n",
       "      <td>3328.300</td>\n",
       "      <td>3329.100</td>\n",
       "      <td>3309.060</td>\n",
       "      <td>3289.270</td>\n",
       "      <td>...</td>\n",
       "      <td>3395.726</td>\n",
       "      <td>3455.085</td>\n",
       "      <td>99790819.2</td>\n",
       "      <td>118955928.8</td>\n",
       "      <td>147353865.6</td>\n",
       "    </tr>\n",
       "    <tr>\n",
       "      <th>4</th>\n",
       "      <td>2016-12-19</td>\n",
       "      <td>3342.340</td>\n",
       "      <td>3344.860</td>\n",
       "      <td>3328.980</td>\n",
       "      <td>3325.000</td>\n",
       "      <td>...</td>\n",
       "      <td>3410.735</td>\n",
       "      <td>3463.050</td>\n",
       "      <td>106497921.6</td>\n",
       "      <td>121751879.2</td>\n",
       "      <td>151401558.8</td>\n",
       "    </tr>\n",
       "    <tr>\n",
       "      <th>...</th>\n",
       "      <td>...</td>\n",
       "      <td>...</td>\n",
       "      <td>...</td>\n",
       "      <td>...</td>\n",
       "      <td>...</td>\n",
       "      <td>...</td>\n",
       "      <td>...</td>\n",
       "      <td>...</td>\n",
       "      <td>...</td>\n",
       "      <td>...</td>\n",
       "      <td>...</td>\n",
       "    </tr>\n",
       "    <tr>\n",
       "      <th>232</th>\n",
       "      <td>2016-01-08</td>\n",
       "      <td>3371.871</td>\n",
       "      <td>3418.851</td>\n",
       "      <td>3361.563</td>\n",
       "      <td>3237.931</td>\n",
       "      <td>...</td>\n",
       "      <td>3596.749</td>\n",
       "      <td>3681.449</td>\n",
       "      <td>130703180.8</td>\n",
       "      <td>123651742.4</td>\n",
       "      <td>141988050.4</td>\n",
       "    </tr>\n",
       "    <tr>\n",
       "      <th>233</th>\n",
       "      <td>2016-01-07</td>\n",
       "      <td>3481.150</td>\n",
       "      <td>3481.150</td>\n",
       "      <td>3294.384</td>\n",
       "      <td>3284.737</td>\n",
       "      <td>...</td>\n",
       "      <td>3643.533</td>\n",
       "      <td>3694.525</td>\n",
       "      <td>113886000.0</td>\n",
       "      <td>119773936.0</td>\n",
       "      <td>138700858.8</td>\n",
       "    </tr>\n",
       "    <tr>\n",
       "      <th>234</th>\n",
       "      <td>2016-01-06</td>\n",
       "      <td>3482.406</td>\n",
       "      <td>3543.739</td>\n",
       "      <td>3539.808</td>\n",
       "      <td>3468.467</td>\n",
       "      <td>...</td>\n",
       "      <td>3700.733</td>\n",
       "      <td>3711.603</td>\n",
       "      <td>126191462.4</td>\n",
       "      <td>136065387.2</td>\n",
       "      <td>142161998.0</td>\n",
       "    </tr>\n",
       "    <tr>\n",
       "      <th>235</th>\n",
       "      <td>2016-01-05</td>\n",
       "      <td>3382.177</td>\n",
       "      <td>3518.217</td>\n",
       "      <td>3478.780</td>\n",
       "      <td>3377.280</td>\n",
       "      <td>...</td>\n",
       "      <td>3734.425</td>\n",
       "      <td>3715.763</td>\n",
       "      <td>117375344.0</td>\n",
       "      <td>139499139.2</td>\n",
       "      <td>141152744.8</td>\n",
       "    </tr>\n",
       "    <tr>\n",
       "      <th>236</th>\n",
       "      <td>2016-01-04</td>\n",
       "      <td>3725.856</td>\n",
       "      <td>3726.245</td>\n",
       "      <td>3469.066</td>\n",
       "      <td>3468.949</td>\n",
       "      <td>...</td>\n",
       "      <td>3773.143</td>\n",
       "      <td>3726.205</td>\n",
       "      <td>115749635.2</td>\n",
       "      <td>145030968.0</td>\n",
       "      <td>138741052.8</td>\n",
       "    </tr>\n",
       "  </tbody>\n",
       "</table>\n",
       "<p>237 rows × 14 columns</p>\n",
       "</div>"
      ],
      "text/plain": [
       "           date      open      high     close       low  ...      ma10  \\\n",
       "0    2016-12-23  3333.400  3334.890  3307.600  3300.880  ...  3349.948   \n",
       "1    2016-12-22  3335.120  3340.360  3335.670  3322.720  ...  3368.558   \n",
       "2    2016-12-21  3313.750  3342.480  3338.540  3313.750  ...  3382.005   \n",
       "3    2016-12-20  3328.300  3329.100  3309.060  3289.270  ...  3395.726   \n",
       "4    2016-12-19  3342.340  3344.860  3328.980  3325.000  ...  3410.735   \n",
       "..          ...       ...       ...       ...       ...  ...       ...   \n",
       "232  2016-01-08  3371.871  3418.851  3361.563  3237.931  ...  3596.749   \n",
       "233  2016-01-07  3481.150  3481.150  3294.384  3284.737  ...  3643.533   \n",
       "234  2016-01-06  3482.406  3543.739  3539.808  3468.467  ...  3700.733   \n",
       "235  2016-01-05  3382.177  3518.217  3478.780  3377.280  ...  3734.425   \n",
       "236  2016-01-04  3725.856  3726.245  3469.066  3468.949  ...  3773.143   \n",
       "\n",
       "         ma20        v_ma5       v_ma10       v_ma20  \n",
       "0    3429.937   93437446.4  110550392.0  139164898.4  \n",
       "1    3440.622   92103587.2  115836250.4  141973738.0  \n",
       "2    3448.276   96640270.4  118346918.4  144647190.8  \n",
       "3    3455.085   99790819.2  118955928.8  147353865.6  \n",
       "4    3463.050  106497921.6  121751879.2  151401558.8  \n",
       "..        ...          ...          ...          ...  \n",
       "232  3681.449  130703180.8  123651742.4  141988050.4  \n",
       "233  3694.525  113886000.0  119773936.0  138700858.8  \n",
       "234  3711.603  126191462.4  136065387.2  142161998.0  \n",
       "235  3715.763  117375344.0  139499139.2  141152744.8  \n",
       "236  3726.205  115749635.2  145030968.0  138741052.8  \n",
       "\n",
       "[237 rows x 14 columns]"
      ]
     },
     "execution_count": 8,
     "metadata": {},
     "output_type": "execute_result"
    }
   ],
   "source": [
    "import wget\n",
    "#数据在data文件夹里面\n",
    "link_to_data = pd.read_csv(r'data\\gertek_2016_d.csv')\n",
    "#DataSet = wget.download(link_to_data)\n"
   ]
  },
  {
   "cell_type": "code",
   "execution_count": 10,
   "metadata": {},
   "outputs": [
    {
     "data": {
      "text/html": [
       "<div>\n",
       "<style scoped>\n",
       "    .dataframe tbody tr th:only-of-type {\n",
       "        vertical-align: middle;\n",
       "    }\n",
       "\n",
       "    .dataframe tbody tr th {\n",
       "        vertical-align: top;\n",
       "    }\n",
       "\n",
       "    .dataframe thead th {\n",
       "        text-align: right;\n",
       "    }\n",
       "</style>\n",
       "<table border=\"1\" class=\"dataframe\">\n",
       "  <thead>\n",
       "    <tr style=\"text-align: right;\">\n",
       "      <th></th>\n",
       "      <th>date</th>\n",
       "      <th>open</th>\n",
       "      <th>high</th>\n",
       "      <th>close</th>\n",
       "      <th>low</th>\n",
       "      <th>...</th>\n",
       "      <th>ma10</th>\n",
       "      <th>ma20</th>\n",
       "      <th>v_ma5</th>\n",
       "      <th>v_ma10</th>\n",
       "      <th>v_ma20</th>\n",
       "    </tr>\n",
       "  </thead>\n",
       "  <tbody>\n",
       "    <tr>\n",
       "      <th>0</th>\n",
       "      <td>2016-12-23</td>\n",
       "      <td>3333.40</td>\n",
       "      <td>3334.89</td>\n",
       "      <td>3307.60</td>\n",
       "      <td>3300.88</td>\n",
       "      <td>...</td>\n",
       "      <td>3349.948</td>\n",
       "      <td>3429.937</td>\n",
       "      <td>93437446.4</td>\n",
       "      <td>110550392.0</td>\n",
       "      <td>139164898.4</td>\n",
       "    </tr>\n",
       "    <tr>\n",
       "      <th>1</th>\n",
       "      <td>2016-12-22</td>\n",
       "      <td>3335.12</td>\n",
       "      <td>3340.36</td>\n",
       "      <td>3335.67</td>\n",
       "      <td>3322.72</td>\n",
       "      <td>...</td>\n",
       "      <td>3368.558</td>\n",
       "      <td>3440.622</td>\n",
       "      <td>92103587.2</td>\n",
       "      <td>115836250.4</td>\n",
       "      <td>141973738.0</td>\n",
       "    </tr>\n",
       "    <tr>\n",
       "      <th>2</th>\n",
       "      <td>2016-12-21</td>\n",
       "      <td>3313.75</td>\n",
       "      <td>3342.48</td>\n",
       "      <td>3338.54</td>\n",
       "      <td>3313.75</td>\n",
       "      <td>...</td>\n",
       "      <td>3382.005</td>\n",
       "      <td>3448.276</td>\n",
       "      <td>96640270.4</td>\n",
       "      <td>118346918.4</td>\n",
       "      <td>144647190.8</td>\n",
       "    </tr>\n",
       "    <tr>\n",
       "      <th>3</th>\n",
       "      <td>2016-12-20</td>\n",
       "      <td>3328.30</td>\n",
       "      <td>3329.10</td>\n",
       "      <td>3309.06</td>\n",
       "      <td>3289.27</td>\n",
       "      <td>...</td>\n",
       "      <td>3395.726</td>\n",
       "      <td>3455.085</td>\n",
       "      <td>99790819.2</td>\n",
       "      <td>118955928.8</td>\n",
       "      <td>147353865.6</td>\n",
       "    </tr>\n",
       "    <tr>\n",
       "      <th>4</th>\n",
       "      <td>2016-12-19</td>\n",
       "      <td>3342.34</td>\n",
       "      <td>3344.86</td>\n",
       "      <td>3328.98</td>\n",
       "      <td>3325.00</td>\n",
       "      <td>...</td>\n",
       "      <td>3410.735</td>\n",
       "      <td>3463.050</td>\n",
       "      <td>106497921.6</td>\n",
       "      <td>121751879.2</td>\n",
       "      <td>151401558.8</td>\n",
       "    </tr>\n",
       "  </tbody>\n",
       "</table>\n",
       "<p>5 rows × 14 columns</p>\n",
       "</div>"
      ],
      "text/plain": [
       "         date     open     high    close      low  ...      ma10      ma20  \\\n",
       "0  2016-12-23  3333.40  3334.89  3307.60  3300.88  ...  3349.948  3429.937   \n",
       "1  2016-12-22  3335.12  3340.36  3335.67  3322.72  ...  3368.558  3440.622   \n",
       "2  2016-12-21  3313.75  3342.48  3338.54  3313.75  ...  3382.005  3448.276   \n",
       "3  2016-12-20  3328.30  3329.10  3309.06  3289.27  ...  3395.726  3455.085   \n",
       "4  2016-12-19  3342.34  3344.86  3328.98  3325.00  ...  3410.735  3463.050   \n",
       "\n",
       "         v_ma5       v_ma10       v_ma20  \n",
       "0   93437446.4  110550392.0  139164898.4  \n",
       "1   92103587.2  115836250.4  141973738.0  \n",
       "2   96640270.4  118346918.4  144647190.8  \n",
       "3   99790819.2  118955928.8  147353865.6  \n",
       "4  106497921.6  121751879.2  151401558.8  \n",
       "\n",
       "[5 rows x 14 columns]"
      ]
     },
     "execution_count": 10,
     "metadata": {},
     "output_type": "execute_result"
    }
   ],
   "source": [
    "goertek=pd.read_csv('data\\gertek_2016_d.csv')\n",
    "goertek.head()"
   ]
  },
  {
   "cell_type": "code",
   "execution_count": 11,
   "metadata": {},
   "outputs": [
    {
     "data": {
      "text/plain": [
       "pandas.core.series.Series"
      ]
     },
     "execution_count": 11,
     "metadata": {},
     "output_type": "execute_result"
    }
   ],
   "source": [
    "type(goertek['date'])"
   ]
  },
  {
   "cell_type": "code",
   "execution_count": 13,
   "metadata": {},
   "outputs": [
    {
     "data": {
      "text/plain": [
       "str"
      ]
     },
     "execution_count": 13,
     "metadata": {},
     "output_type": "execute_result"
    }
   ],
   "source": [
    "type(goertek['date'][0])"
   ]
  },
  {
   "cell_type": "code",
   "execution_count": 14,
   "metadata": {},
   "outputs": [
    {
     "data": {
      "text/plain": [
       "pandas._libs.tslibs.timestamps.Timestamp"
      ]
     },
     "execution_count": 14,
     "metadata": {},
     "output_type": "execute_result"
    }
   ],
   "source": [
    "goertek['date']=pd.to_datetime(goertek['date'])\n",
    "type(goertek['date'][0])"
   ]
  },
  {
   "cell_type": "code",
   "execution_count": 15,
   "metadata": {},
   "outputs": [
    {
     "data": {
      "text/html": [
       "<div>\n",
       "<style scoped>\n",
       "    .dataframe tbody tr th:only-of-type {\n",
       "        vertical-align: middle;\n",
       "    }\n",
       "\n",
       "    .dataframe tbody tr th {\n",
       "        vertical-align: top;\n",
       "    }\n",
       "\n",
       "    .dataframe thead th {\n",
       "        text-align: right;\n",
       "    }\n",
       "</style>\n",
       "<table border=\"1\" class=\"dataframe\">\n",
       "  <thead>\n",
       "    <tr style=\"text-align: right;\">\n",
       "      <th></th>\n",
       "      <th>open</th>\n",
       "      <th>high</th>\n",
       "      <th>close</th>\n",
       "      <th>low</th>\n",
       "      <th>volume</th>\n",
       "      <th>...</th>\n",
       "      <th>ma10</th>\n",
       "      <th>ma20</th>\n",
       "      <th>v_ma5</th>\n",
       "      <th>v_ma10</th>\n",
       "      <th>v_ma20</th>\n",
       "    </tr>\n",
       "    <tr>\n",
       "      <th>date</th>\n",
       "      <th></th>\n",
       "      <th></th>\n",
       "      <th></th>\n",
       "      <th></th>\n",
       "      <th></th>\n",
       "      <th></th>\n",
       "      <th></th>\n",
       "      <th></th>\n",
       "      <th></th>\n",
       "      <th></th>\n",
       "      <th></th>\n",
       "    </tr>\n",
       "  </thead>\n",
       "  <tbody>\n",
       "    <tr>\n",
       "      <th>2016-12-23</th>\n",
       "      <td>3333.40</td>\n",
       "      <td>3334.89</td>\n",
       "      <td>3307.60</td>\n",
       "      <td>3300.88</td>\n",
       "      <td>97444712.0</td>\n",
       "      <td>...</td>\n",
       "      <td>3349.948</td>\n",
       "      <td>3429.937</td>\n",
       "      <td>93437446.4</td>\n",
       "      <td>110550392.0</td>\n",
       "      <td>139164898.4</td>\n",
       "    </tr>\n",
       "    <tr>\n",
       "      <th>2016-12-22</th>\n",
       "      <td>3335.12</td>\n",
       "      <td>3340.36</td>\n",
       "      <td>3335.67</td>\n",
       "      <td>3322.72</td>\n",
       "      <td>92277248.0</td>\n",
       "      <td>...</td>\n",
       "      <td>3368.558</td>\n",
       "      <td>3440.622</td>\n",
       "      <td>92103587.2</td>\n",
       "      <td>115836250.4</td>\n",
       "      <td>141973738.0</td>\n",
       "    </tr>\n",
       "    <tr>\n",
       "      <th>2016-12-21</th>\n",
       "      <td>3313.75</td>\n",
       "      <td>3342.48</td>\n",
       "      <td>3338.54</td>\n",
       "      <td>3313.75</td>\n",
       "      <td>108255000.0</td>\n",
       "      <td>...</td>\n",
       "      <td>3382.005</td>\n",
       "      <td>3448.276</td>\n",
       "      <td>96640270.4</td>\n",
       "      <td>118346918.4</td>\n",
       "      <td>144647190.8</td>\n",
       "    </tr>\n",
       "    <tr>\n",
       "      <th>2016-12-20</th>\n",
       "      <td>3328.30</td>\n",
       "      <td>3329.10</td>\n",
       "      <td>3309.06</td>\n",
       "      <td>3289.27</td>\n",
       "      <td>87569592.0</td>\n",
       "      <td>...</td>\n",
       "      <td>3395.726</td>\n",
       "      <td>3455.085</td>\n",
       "      <td>99790819.2</td>\n",
       "      <td>118955928.8</td>\n",
       "      <td>147353865.6</td>\n",
       "    </tr>\n",
       "    <tr>\n",
       "      <th>2016-12-19</th>\n",
       "      <td>3342.34</td>\n",
       "      <td>3344.86</td>\n",
       "      <td>3328.98</td>\n",
       "      <td>3325.00</td>\n",
       "      <td>81640680.0</td>\n",
       "      <td>...</td>\n",
       "      <td>3410.735</td>\n",
       "      <td>3463.050</td>\n",
       "      <td>106497921.6</td>\n",
       "      <td>121751879.2</td>\n",
       "      <td>151401558.8</td>\n",
       "    </tr>\n",
       "  </tbody>\n",
       "</table>\n",
       "<p>5 rows × 13 columns</p>\n",
       "</div>"
      ],
      "text/plain": [
       "               open     high    close      low       volume  ...      ma10  \\\n",
       "date                                                         ...             \n",
       "2016-12-23  3333.40  3334.89  3307.60  3300.88   97444712.0  ...  3349.948   \n",
       "2016-12-22  3335.12  3340.36  3335.67  3322.72   92277248.0  ...  3368.558   \n",
       "2016-12-21  3313.75  3342.48  3338.54  3313.75  108255000.0  ...  3382.005   \n",
       "2016-12-20  3328.30  3329.10  3309.06  3289.27   87569592.0  ...  3395.726   \n",
       "2016-12-19  3342.34  3344.86  3328.98  3325.00   81640680.0  ...  3410.735   \n",
       "\n",
       "                ma20        v_ma5       v_ma10       v_ma20  \n",
       "date                                                         \n",
       "2016-12-23  3429.937   93437446.4  110550392.0  139164898.4  \n",
       "2016-12-22  3440.622   92103587.2  115836250.4  141973738.0  \n",
       "2016-12-21  3448.276   96640270.4  118346918.4  144647190.8  \n",
       "2016-12-20  3455.085   99790819.2  118955928.8  147353865.6  \n",
       "2016-12-19  3463.050  106497921.6  121751879.2  151401558.8  \n",
       "\n",
       "[5 rows x 13 columns]"
      ]
     },
     "execution_count": 15,
     "metadata": {},
     "output_type": "execute_result"
    }
   ],
   "source": [
    "goertek=goertek.set_index('date')\n",
    "goertek.head()"
   ]
  },
  {
   "cell_type": "code",
   "execution_count": 16,
   "metadata": {},
   "outputs": [
    {
     "data": {
      "text/plain": [
       "pandas.core.indexes.datetimes.DatetimeIndex"
      ]
     },
     "execution_count": 16,
     "metadata": {},
     "output_type": "execute_result"
    }
   ],
   "source": [
    "type(goertek.index)"
   ]
  },
  {
   "cell_type": "code",
   "execution_count": 18,
   "metadata": {},
   "outputs": [
    {
     "data": {
      "text/html": [
       "<div>\n",
       "<style scoped>\n",
       "    .dataframe tbody tr th:only-of-type {\n",
       "        vertical-align: middle;\n",
       "    }\n",
       "\n",
       "    .dataframe tbody tr th {\n",
       "        vertical-align: top;\n",
       "    }\n",
       "\n",
       "    .dataframe thead th {\n",
       "        text-align: right;\n",
       "    }\n",
       "</style>\n",
       "<table border=\"1\" class=\"dataframe\">\n",
       "  <thead>\n",
       "    <tr style=\"text-align: right;\">\n",
       "      <th></th>\n",
       "      <th>open</th>\n",
       "      <th>high</th>\n",
       "      <th>close</th>\n",
       "      <th>low</th>\n",
       "      <th>volume</th>\n",
       "      <th>...</th>\n",
       "      <th>ma10</th>\n",
       "      <th>ma20</th>\n",
       "      <th>v_ma5</th>\n",
       "      <th>v_ma10</th>\n",
       "      <th>v_ma20</th>\n",
       "    </tr>\n",
       "    <tr>\n",
       "      <th>date</th>\n",
       "      <th></th>\n",
       "      <th></th>\n",
       "      <th></th>\n",
       "      <th></th>\n",
       "      <th></th>\n",
       "      <th></th>\n",
       "      <th></th>\n",
       "      <th></th>\n",
       "      <th></th>\n",
       "      <th></th>\n",
       "      <th></th>\n",
       "    </tr>\n",
       "  </thead>\n",
       "  <tbody>\n",
       "    <tr>\n",
       "      <th>2016-12-23</th>\n",
       "      <td>3333.40</td>\n",
       "      <td>3334.89</td>\n",
       "      <td>3307.60</td>\n",
       "      <td>3300.88</td>\n",
       "      <td>97444712.0</td>\n",
       "      <td>...</td>\n",
       "      <td>3349.948</td>\n",
       "      <td>3429.937</td>\n",
       "      <td>93437446.4</td>\n",
       "      <td>110550392.0</td>\n",
       "      <td>139164898.4</td>\n",
       "    </tr>\n",
       "    <tr>\n",
       "      <th>2016-12-22</th>\n",
       "      <td>3335.12</td>\n",
       "      <td>3340.36</td>\n",
       "      <td>3335.67</td>\n",
       "      <td>3322.72</td>\n",
       "      <td>92277248.0</td>\n",
       "      <td>...</td>\n",
       "      <td>3368.558</td>\n",
       "      <td>3440.622</td>\n",
       "      <td>92103587.2</td>\n",
       "      <td>115836250.4</td>\n",
       "      <td>141973738.0</td>\n",
       "    </tr>\n",
       "    <tr>\n",
       "      <th>2016-12-21</th>\n",
       "      <td>3313.75</td>\n",
       "      <td>3342.48</td>\n",
       "      <td>3338.54</td>\n",
       "      <td>3313.75</td>\n",
       "      <td>108255000.0</td>\n",
       "      <td>...</td>\n",
       "      <td>3382.005</td>\n",
       "      <td>3448.276</td>\n",
       "      <td>96640270.4</td>\n",
       "      <td>118346918.4</td>\n",
       "      <td>144647190.8</td>\n",
       "    </tr>\n",
       "    <tr>\n",
       "      <th>2016-12-20</th>\n",
       "      <td>3328.30</td>\n",
       "      <td>3329.10</td>\n",
       "      <td>3309.06</td>\n",
       "      <td>3289.27</td>\n",
       "      <td>87569592.0</td>\n",
       "      <td>...</td>\n",
       "      <td>3395.726</td>\n",
       "      <td>3455.085</td>\n",
       "      <td>99790819.2</td>\n",
       "      <td>118955928.8</td>\n",
       "      <td>147353865.6</td>\n",
       "    </tr>\n",
       "    <tr>\n",
       "      <th>2016-12-19</th>\n",
       "      <td>3342.34</td>\n",
       "      <td>3344.86</td>\n",
       "      <td>3328.98</td>\n",
       "      <td>3325.00</td>\n",
       "      <td>81640680.0</td>\n",
       "      <td>...</td>\n",
       "      <td>3410.735</td>\n",
       "      <td>3463.050</td>\n",
       "      <td>106497921.6</td>\n",
       "      <td>121751879.2</td>\n",
       "      <td>151401558.8</td>\n",
       "    </tr>\n",
       "  </tbody>\n",
       "</table>\n",
       "<p>5 rows × 13 columns</p>\n",
       "</div>"
      ],
      "text/plain": [
       "               open     high    close      low       volume  ...      ma10  \\\n",
       "date                                                         ...             \n",
       "2016-12-23  3333.40  3334.89  3307.60  3300.88   97444712.0  ...  3349.948   \n",
       "2016-12-22  3335.12  3340.36  3335.67  3322.72   92277248.0  ...  3368.558   \n",
       "2016-12-21  3313.75  3342.48  3338.54  3313.75  108255000.0  ...  3382.005   \n",
       "2016-12-20  3328.30  3329.10  3309.06  3289.27   87569592.0  ...  3395.726   \n",
       "2016-12-19  3342.34  3344.86  3328.98  3325.00   81640680.0  ...  3410.735   \n",
       "\n",
       "                ma20        v_ma5       v_ma10       v_ma20  \n",
       "date                                                         \n",
       "2016-12-23  3429.937   93437446.4  110550392.0  139164898.4  \n",
       "2016-12-22  3440.622   92103587.2  115836250.4  141973738.0  \n",
       "2016-12-21  3448.276   96640270.4  118346918.4  144647190.8  \n",
       "2016-12-20  3455.085   99790819.2  118955928.8  147353865.6  \n",
       "2016-12-19  3463.050  106497921.6  121751879.2  151401558.8  \n",
       "\n",
       "[5 rows x 13 columns]"
      ]
     },
     "execution_count": 18,
     "metadata": {},
     "output_type": "execute_result"
    }
   ],
   "source": [
    "goertek=pd.read_csv('data/gertek_2016_d.csv',index_col='date',parse_dates=True)\n",
    "goertek.head()"
   ]
  },
  {
   "cell_type": "code",
   "execution_count": 19,
   "metadata": {},
   "outputs": [
    {
     "data": {
      "text/plain": [
       "pandas.core.indexes.datetimes.DatetimeIndex"
      ]
     },
     "execution_count": 19,
     "metadata": {},
     "output_type": "execute_result"
    }
   ],
   "source": [
    "type(goertek.index)"
   ]
  },
  {
   "cell_type": "markdown",
   "metadata": {},
   "source": [
    "### DateOffset and TimeDelta"
   ]
  },
  {
   "cell_type": "code",
   "execution_count": 23,
   "metadata": {},
   "outputs": [
    {
     "name": "stderr",
     "output_type": "stream",
     "text": [
      "c:\\users\\123\\appdata\\local\\programs\\python\\python37\\lib\\site-packages\\ipykernel_launcher.py:1: FutureWarning: The pandas.datetime class is deprecated and will be removed from pandas in a future version. Import from datetime module instead.\n",
      "  \"\"\"Entry point for launching an IPython kernel.\n"
     ]
    },
    {
     "data": {
      "text/plain": [
       "datetime.datetime(2016, 12, 31, 0, 0)"
      ]
     },
     "execution_count": 23,
     "metadata": {},
     "output_type": "execute_result"
    }
   ],
   "source": [
    "lastday=pd.datetime(2016,12,31)\n",
    "lastday"
   ]
  },
  {
   "cell_type": "code",
   "execution_count": 24,
   "metadata": {},
   "outputs": [
    {
     "data": {
      "text/plain": [
       "Timestamp('2017-01-01 00:00:00')"
      ]
     },
     "execution_count": 24,
     "metadata": {},
     "output_type": "execute_result"
    }
   ],
   "source": [
    "newyear=lastday+pd.DateOffset(days=1)\n",
    "newyear"
   ]
  },
  {
   "cell_type": "code",
   "execution_count": 25,
   "metadata": {},
   "outputs": [
    {
     "name": "stderr",
     "output_type": "stream",
     "text": [
      "c:\\users\\123\\appdata\\local\\programs\\python\\python37\\lib\\site-packages\\ipykernel_launcher.py:1: FutureWarning: The pandas.datetime class is deprecated and will be removed from pandas in a future version. Import from datetime module instead.\n",
      "  \"\"\"Entry point for launching an IPython kernel.\n"
     ]
    },
    {
     "data": {
      "text/plain": [
       "datetime.datetime(2020, 9, 29, 18, 47, 46, 677896)"
      ]
     },
     "execution_count": 25,
     "metadata": {},
     "output_type": "execute_result"
    }
   ],
   "source": [
    "today=pd.datetime.now()\n",
    "today"
   ]
  },
  {
   "cell_type": "code",
   "execution_count": 29,
   "metadata": {},
   "outputs": [
    {
     "data": {
      "text/plain": [
       "Timestamp('2020-10-06 18:47:46.677896')"
      ]
     },
     "execution_count": 29,
     "metadata": {},
     "output_type": "execute_result"
    }
   ],
   "source": [
    "today+pd.DateOffset(weeks=1)"
   ]
  },
  {
   "cell_type": "code",
   "execution_count": 30,
   "metadata": {},
   "outputs": [
    {
     "data": {
      "text/plain": [
       "Timestamp('2025-09-29 18:47:46.677896')"
      ]
     },
     "execution_count": 30,
     "metadata": {},
     "output_type": "execute_result"
    }
   ],
   "source": [
    "today+2*pd.DateOffset(years=2, months=6)"
   ]
  },
  {
   "cell_type": "code",
   "execution_count": 31,
   "metadata": {},
   "outputs": [],
   "source": [
    "import datetime"
   ]
  },
  {
   "cell_type": "code",
   "execution_count": 32,
   "metadata": {},
   "outputs": [
    {
     "data": {
      "text/plain": [
       "datetime.timedelta(days=7)"
      ]
     },
     "execution_count": 32,
     "metadata": {},
     "output_type": "execute_result"
    }
   ],
   "source": [
    "weekDelta=datetime.timedelta(weeks=1)\n",
    "weekDelta"
   ]
  },
  {
   "cell_type": "code",
   "execution_count": 33,
   "metadata": {},
   "outputs": [
    {
     "data": {
      "text/plain": [
       "datetime.timedelta(days=7)"
      ]
     },
     "execution_count": 33,
     "metadata": {},
     "output_type": "execute_result"
    }
   ],
   "source": [
    "datetime.timedelta(7)"
   ]
  },
  {
   "cell_type": "code",
   "execution_count": 34,
   "metadata": {},
   "outputs": [
    {
     "name": "stderr",
     "output_type": "stream",
     "text": [
      "c:\\users\\123\\appdata\\local\\programs\\python\\python37\\lib\\site-packages\\ipykernel_launcher.py:1: FutureWarning: The pandas.datetime class is deprecated and will be removed from pandas in a future version. Import from datetime module instead.\n",
      "  \"\"\"Entry point for launching an IPython kernel.\n"
     ]
    }
   ],
   "source": [
    "today=pd.datetime.now()"
   ]
  },
  {
   "cell_type": "code",
   "execution_count": 35,
   "metadata": {},
   "outputs": [
    {
     "data": {
      "text/plain": [
       "datetime.datetime(2020, 10, 6, 18, 49, 10, 27981)"
      ]
     },
     "execution_count": 35,
     "metadata": {},
     "output_type": "execute_result"
    }
   ],
   "source": [
    "today+weekDelta"
   ]
  },
  {
   "cell_type": "markdown",
   "metadata": {},
   "source": [
    "### Time Series Function"
   ]
  },
  {
   "cell_type": "code",
   "execution_count": 36,
   "metadata": {},
   "outputs": [
    {
     "data": {
      "text/html": [
       "<div>\n",
       "<style scoped>\n",
       "    .dataframe tbody tr th:only-of-type {\n",
       "        vertical-align: middle;\n",
       "    }\n",
       "\n",
       "    .dataframe tbody tr th {\n",
       "        vertical-align: top;\n",
       "    }\n",
       "\n",
       "    .dataframe thead th {\n",
       "        text-align: right;\n",
       "    }\n",
       "</style>\n",
       "<table border=\"1\" class=\"dataframe\">\n",
       "  <thead>\n",
       "    <tr style=\"text-align: right;\">\n",
       "      <th></th>\n",
       "      <th>open</th>\n",
       "      <th>high</th>\n",
       "      <th>close</th>\n",
       "      <th>low</th>\n",
       "      <th>volume</th>\n",
       "      <th>...</th>\n",
       "      <th>ma10</th>\n",
       "      <th>ma20</th>\n",
       "      <th>v_ma5</th>\n",
       "      <th>v_ma10</th>\n",
       "      <th>v_ma20</th>\n",
       "    </tr>\n",
       "    <tr>\n",
       "      <th>date</th>\n",
       "      <th></th>\n",
       "      <th></th>\n",
       "      <th></th>\n",
       "      <th></th>\n",
       "      <th></th>\n",
       "      <th></th>\n",
       "      <th></th>\n",
       "      <th></th>\n",
       "      <th></th>\n",
       "      <th></th>\n",
       "      <th></th>\n",
       "    </tr>\n",
       "  </thead>\n",
       "  <tbody>\n",
       "    <tr>\n",
       "      <th>2016-01-04</th>\n",
       "      <td>3725.856</td>\n",
       "      <td>3726.245</td>\n",
       "      <td>3469.066</td>\n",
       "      <td>3468.949</td>\n",
       "      <td>115370672.0</td>\n",
       "      <td>...</td>\n",
       "      <td>3773.143</td>\n",
       "      <td>3726.205</td>\n",
       "      <td>115749635.2</td>\n",
       "      <td>145030968.0</td>\n",
       "      <td>138741052.8</td>\n",
       "    </tr>\n",
       "    <tr>\n",
       "      <th>2016-01-05</th>\n",
       "      <td>3382.177</td>\n",
       "      <td>3518.217</td>\n",
       "      <td>3478.780</td>\n",
       "      <td>3377.280</td>\n",
       "      <td>162116992.0</td>\n",
       "      <td>...</td>\n",
       "      <td>3734.425</td>\n",
       "      <td>3715.763</td>\n",
       "      <td>117375344.0</td>\n",
       "      <td>139499139.2</td>\n",
       "      <td>141152744.8</td>\n",
       "    </tr>\n",
       "    <tr>\n",
       "      <th>2016-01-06</th>\n",
       "      <td>3482.406</td>\n",
       "      <td>3543.739</td>\n",
       "      <td>3539.808</td>\n",
       "      <td>3468.467</td>\n",
       "      <td>145966144.0</td>\n",
       "      <td>...</td>\n",
       "      <td>3700.733</td>\n",
       "      <td>3711.603</td>\n",
       "      <td>126191462.4</td>\n",
       "      <td>136065387.2</td>\n",
       "      <td>142161998.0</td>\n",
       "    </tr>\n",
       "    <tr>\n",
       "      <th>2016-01-07</th>\n",
       "      <td>3481.150</td>\n",
       "      <td>3481.150</td>\n",
       "      <td>3294.384</td>\n",
       "      <td>3284.737</td>\n",
       "      <td>44102640.0</td>\n",
       "      <td>...</td>\n",
       "      <td>3643.533</td>\n",
       "      <td>3694.525</td>\n",
       "      <td>113886000.0</td>\n",
       "      <td>119773936.0</td>\n",
       "      <td>138700858.8</td>\n",
       "    </tr>\n",
       "    <tr>\n",
       "      <th>2016-01-08</th>\n",
       "      <td>3371.871</td>\n",
       "      <td>3418.851</td>\n",
       "      <td>3361.563</td>\n",
       "      <td>3237.931</td>\n",
       "      <td>185959456.0</td>\n",
       "      <td>...</td>\n",
       "      <td>3596.749</td>\n",
       "      <td>3681.449</td>\n",
       "      <td>130703180.8</td>\n",
       "      <td>123651742.4</td>\n",
       "      <td>141988050.4</td>\n",
       "    </tr>\n",
       "  </tbody>\n",
       "</table>\n",
       "<p>5 rows × 13 columns</p>\n",
       "</div>"
      ],
      "text/plain": [
       "                open      high     close       low       volume  ...  \\\n",
       "date                                                             ...   \n",
       "2016-01-04  3725.856  3726.245  3469.066  3468.949  115370672.0  ...   \n",
       "2016-01-05  3382.177  3518.217  3478.780  3377.280  162116992.0  ...   \n",
       "2016-01-06  3482.406  3543.739  3539.808  3468.467  145966144.0  ...   \n",
       "2016-01-07  3481.150  3481.150  3294.384  3284.737   44102640.0  ...   \n",
       "2016-01-08  3371.871  3418.851  3361.563  3237.931  185959456.0  ...   \n",
       "\n",
       "                ma10      ma20        v_ma5       v_ma10       v_ma20  \n",
       "date                                                                   \n",
       "2016-01-04  3773.143  3726.205  115749635.2  145030968.0  138741052.8  \n",
       "2016-01-05  3734.425  3715.763  117375344.0  139499139.2  141152744.8  \n",
       "2016-01-06  3700.733  3711.603  126191462.4  136065387.2  142161998.0  \n",
       "2016-01-07  3643.533  3694.525  113886000.0  119773936.0  138700858.8  \n",
       "2016-01-08  3596.749  3681.449  130703180.8  123651742.4  141988050.4  \n",
       "\n",
       "[5 rows x 13 columns]"
      ]
     },
     "execution_count": 36,
     "metadata": {},
     "output_type": "execute_result"
    }
   ],
   "source": [
    "goertek=goertek.sort_index(ascending=True)\n",
    "goertek.head()"
   ]
  },
  {
   "cell_type": "code",
   "execution_count": 43,
   "metadata": {},
   "outputs": [
    {
     "data": {
      "text/html": [
       "<div>\n",
       "<style scoped>\n",
       "    .dataframe tbody tr th:only-of-type {\n",
       "        vertical-align: middle;\n",
       "    }\n",
       "\n",
       "    .dataframe tbody tr th {\n",
       "        vertical-align: top;\n",
       "    }\n",
       "\n",
       "    .dataframe thead th {\n",
       "        text-align: right;\n",
       "    }\n",
       "</style>\n",
       "<table border=\"1\" class=\"dataframe\">\n",
       "  <thead>\n",
       "    <tr style=\"text-align: right;\">\n",
       "      <th></th>\n",
       "      <th>open</th>\n",
       "      <th>high</th>\n",
       "      <th>close</th>\n",
       "      <th>low</th>\n",
       "      <th>volume</th>\n",
       "      <th>...</th>\n",
       "      <th>ma10</th>\n",
       "      <th>ma20</th>\n",
       "      <th>v_ma5</th>\n",
       "      <th>v_ma10</th>\n",
       "      <th>v_ma20</th>\n",
       "    </tr>\n",
       "    <tr>\n",
       "      <th>date</th>\n",
       "      <th></th>\n",
       "      <th></th>\n",
       "      <th></th>\n",
       "      <th></th>\n",
       "      <th></th>\n",
       "      <th></th>\n",
       "      <th></th>\n",
       "      <th></th>\n",
       "      <th></th>\n",
       "      <th></th>\n",
       "      <th></th>\n",
       "    </tr>\n",
       "  </thead>\n",
       "  <tbody>\n",
       "    <tr>\n",
       "      <th>2016-12-19</th>\n",
       "      <td>3342.34</td>\n",
       "      <td>3344.86</td>\n",
       "      <td>3328.98</td>\n",
       "      <td>3325.00</td>\n",
       "      <td>81640680.0</td>\n",
       "      <td>...</td>\n",
       "      <td>3410.735</td>\n",
       "      <td>3463.050</td>\n",
       "      <td>106497921.6</td>\n",
       "      <td>121751879.2</td>\n",
       "      <td>151401558.8</td>\n",
       "    </tr>\n",
       "    <tr>\n",
       "      <th>2016-12-20</th>\n",
       "      <td>3328.30</td>\n",
       "      <td>3329.10</td>\n",
       "      <td>3309.06</td>\n",
       "      <td>3289.27</td>\n",
       "      <td>87569592.0</td>\n",
       "      <td>...</td>\n",
       "      <td>3395.726</td>\n",
       "      <td>3455.085</td>\n",
       "      <td>99790819.2</td>\n",
       "      <td>118955928.8</td>\n",
       "      <td>147353865.6</td>\n",
       "    </tr>\n",
       "    <tr>\n",
       "      <th>2016-12-21</th>\n",
       "      <td>3313.75</td>\n",
       "      <td>3342.48</td>\n",
       "      <td>3338.54</td>\n",
       "      <td>3313.75</td>\n",
       "      <td>108255000.0</td>\n",
       "      <td>...</td>\n",
       "      <td>3382.005</td>\n",
       "      <td>3448.276</td>\n",
       "      <td>96640270.4</td>\n",
       "      <td>118346918.4</td>\n",
       "      <td>144647190.8</td>\n",
       "    </tr>\n",
       "    <tr>\n",
       "      <th>2016-12-22</th>\n",
       "      <td>3335.12</td>\n",
       "      <td>3340.36</td>\n",
       "      <td>3335.67</td>\n",
       "      <td>3322.72</td>\n",
       "      <td>92277248.0</td>\n",
       "      <td>...</td>\n",
       "      <td>3368.558</td>\n",
       "      <td>3440.622</td>\n",
       "      <td>92103587.2</td>\n",
       "      <td>115836250.4</td>\n",
       "      <td>141973738.0</td>\n",
       "    </tr>\n",
       "    <tr>\n",
       "      <th>2016-12-23</th>\n",
       "      <td>3333.40</td>\n",
       "      <td>3334.89</td>\n",
       "      <td>3307.60</td>\n",
       "      <td>3300.88</td>\n",
       "      <td>97444712.0</td>\n",
       "      <td>...</td>\n",
       "      <td>3349.948</td>\n",
       "      <td>3429.937</td>\n",
       "      <td>93437446.4</td>\n",
       "      <td>110550392.0</td>\n",
       "      <td>139164898.4</td>\n",
       "    </tr>\n",
       "  </tbody>\n",
       "</table>\n",
       "<p>5 rows × 13 columns</p>\n",
       "</div>"
      ],
      "text/plain": [
       "               open     high    close      low       volume  ...      ma10  \\\n",
       "date                                                         ...             \n",
       "2016-12-19  3342.34  3344.86  3328.98  3325.00   81640680.0  ...  3410.735   \n",
       "2016-12-20  3328.30  3329.10  3309.06  3289.27   87569592.0  ...  3395.726   \n",
       "2016-12-21  3313.75  3342.48  3338.54  3313.75  108255000.0  ...  3382.005   \n",
       "2016-12-22  3335.12  3340.36  3335.67  3322.72   92277248.0  ...  3368.558   \n",
       "2016-12-23  3333.40  3334.89  3307.60  3300.88   97444712.0  ...  3349.948   \n",
       "\n",
       "                ma20        v_ma5       v_ma10       v_ma20  \n",
       "date                                                         \n",
       "2016-12-19  3463.050  106497921.6  121751879.2  151401558.8  \n",
       "2016-12-20  3455.085   99790819.2  118955928.8  147353865.6  \n",
       "2016-12-21  3448.276   96640270.4  118346918.4  144647190.8  \n",
       "2016-12-22  3440.622   92103587.2  115836250.4  141973738.0  \n",
       "2016-12-23  3429.937   93437446.4  110550392.0  139164898.4  \n",
       "\n",
       "[5 rows x 13 columns]"
      ]
     },
     "execution_count": 43,
     "metadata": {},
     "output_type": "execute_result"
    }
   ],
   "source": [
    "goertek.tail()"
   ]
  },
  {
   "cell_type": "code",
   "execution_count": 45,
   "metadata": {
    "scrolled": true
   },
   "outputs": [
    {
     "data": {
      "text/html": [
       "<div>\n",
       "<style scoped>\n",
       "    .dataframe tbody tr th:only-of-type {\n",
       "        vertical-align: middle;\n",
       "    }\n",
       "\n",
       "    .dataframe tbody tr th {\n",
       "        vertical-align: top;\n",
       "    }\n",
       "\n",
       "    .dataframe thead th {\n",
       "        text-align: right;\n",
       "    }\n",
       "</style>\n",
       "<table border=\"1\" class=\"dataframe\">\n",
       "  <thead>\n",
       "    <tr style=\"text-align: right;\">\n",
       "      <th></th>\n",
       "      <th>open</th>\n",
       "      <th>high</th>\n",
       "      <th>close</th>\n",
       "      <th>low</th>\n",
       "      <th>volume</th>\n",
       "      <th>...</th>\n",
       "      <th>ma10</th>\n",
       "      <th>ma20</th>\n",
       "      <th>v_ma5</th>\n",
       "      <th>v_ma10</th>\n",
       "      <th>v_ma20</th>\n",
       "    </tr>\n",
       "    <tr>\n",
       "      <th>date</th>\n",
       "      <th></th>\n",
       "      <th></th>\n",
       "      <th></th>\n",
       "      <th></th>\n",
       "      <th></th>\n",
       "      <th></th>\n",
       "      <th></th>\n",
       "      <th></th>\n",
       "      <th></th>\n",
       "      <th></th>\n",
       "      <th></th>\n",
       "    </tr>\n",
       "  </thead>\n",
       "  <tbody>\n",
       "    <tr>\n",
       "      <th>2016-01-04</th>\n",
       "      <td>NaN</td>\n",
       "      <td>NaN</td>\n",
       "      <td>NaN</td>\n",
       "      <td>NaN</td>\n",
       "      <td>NaN</td>\n",
       "      <td>...</td>\n",
       "      <td>NaN</td>\n",
       "      <td>NaN</td>\n",
       "      <td>NaN</td>\n",
       "      <td>NaN</td>\n",
       "      <td>NaN</td>\n",
       "    </tr>\n",
       "    <tr>\n",
       "      <th>2016-01-05</th>\n",
       "      <td>3725.856</td>\n",
       "      <td>3726.245</td>\n",
       "      <td>3469.066</td>\n",
       "      <td>3468.949</td>\n",
       "      <td>115370672.0</td>\n",
       "      <td>...</td>\n",
       "      <td>3773.143</td>\n",
       "      <td>3726.205</td>\n",
       "      <td>115749635.2</td>\n",
       "      <td>145030968.0</td>\n",
       "      <td>138741052.8</td>\n",
       "    </tr>\n",
       "    <tr>\n",
       "      <th>2016-01-06</th>\n",
       "      <td>3382.177</td>\n",
       "      <td>3518.217</td>\n",
       "      <td>3478.780</td>\n",
       "      <td>3377.280</td>\n",
       "      <td>162116992.0</td>\n",
       "      <td>...</td>\n",
       "      <td>3734.425</td>\n",
       "      <td>3715.763</td>\n",
       "      <td>117375344.0</td>\n",
       "      <td>139499139.2</td>\n",
       "      <td>141152744.8</td>\n",
       "    </tr>\n",
       "  </tbody>\n",
       "</table>\n",
       "<p>3 rows × 13 columns</p>\n",
       "</div>"
      ],
      "text/plain": [
       "                open      high     close       low       volume  ...  \\\n",
       "date                                                             ...   \n",
       "2016-01-04       NaN       NaN       NaN       NaN          NaN  ...   \n",
       "2016-01-05  3725.856  3726.245  3469.066  3468.949  115370672.0  ...   \n",
       "2016-01-06  3382.177  3518.217  3478.780  3377.280  162116992.0  ...   \n",
       "\n",
       "                ma10      ma20        v_ma5       v_ma10       v_ma20  \n",
       "date                                                                   \n",
       "2016-01-04       NaN       NaN          NaN          NaN          NaN  \n",
       "2016-01-05  3773.143  3726.205  115749635.2  145030968.0  138741052.8  \n",
       "2016-01-06  3734.425  3715.763  117375344.0  139499139.2  141152744.8  \n",
       "\n",
       "[3 rows x 13 columns]"
      ]
     },
     "execution_count": 45,
     "metadata": {},
     "output_type": "execute_result"
    }
   ],
   "source": [
    "goertek.shift(1).head(3)#shift(1)把数据向下移动一位"
   ]
  },
  {
   "cell_type": "code",
   "execution_count": 1,
   "metadata": {},
   "outputs": [
    {
     "ename": "NameError",
     "evalue": "name 'goertek' is not defined",
     "output_type": "error",
     "traceback": [
      "\u001b[1;31m---------------------------------------------------------------------------\u001b[0m",
      "\u001b[1;31mNameError\u001b[0m                                 Traceback (most recent call last)",
      "\u001b[1;32m<ipython-input-1-b2394fac57de>\u001b[0m in \u001b[0;36m<module>\u001b[1;34m\u001b[0m\n\u001b[0;32m      1\u001b[0m \u001b[1;31m#\u001b[0m\u001b[1;33m\u001b[0m\u001b[1;33m\u001b[0m\u001b[0m\n\u001b[0;32m      2\u001b[0m \u001b[1;33m\u001b[0m\u001b[0m\n\u001b[1;32m----> 3\u001b[1;33m \u001b[0mgoertek\u001b[0m\u001b[1;33m.\u001b[0m\u001b[0mshift\u001b[0m\u001b[1;33m(\u001b[0m\u001b[1;36m1\u001b[0m\u001b[1;33m,\u001b[0m\u001b[0mfreq\u001b[0m\u001b[1;33m=\u001b[0m\u001b[0mpd\u001b[0m\u001b[1;33m.\u001b[0m\u001b[0mdatetools\u001b[0m\u001b[1;33m.\u001b[0m\u001b[0mbday\u001b[0m\u001b[1;33m)\u001b[0m\u001b[1;33m.\u001b[0m\u001b[0mhead\u001b[0m\u001b[1;33m(\u001b[0m\u001b[1;36m3\u001b[0m\u001b[1;33m)\u001b[0m\u001b[1;33m\u001b[0m\u001b[0m\n\u001b[0m",
      "\u001b[1;31mNameError\u001b[0m: name 'goertek' is not defined"
     ]
    }
   ],
   "source": [
    "#改不出来\n",
    "\n",
    "goertek.shift(1,freq=pd.datetools.bday).head(3)"
   ]
  },
  {
   "cell_type": "code",
   "execution_count": 49,
   "metadata": {},
   "outputs": [
    {
     "data": {
      "text/html": [
       "<div>\n",
       "<style scoped>\n",
       "    .dataframe tbody tr th:only-of-type {\n",
       "        vertical-align: middle;\n",
       "    }\n",
       "\n",
       "    .dataframe tbody tr th {\n",
       "        vertical-align: top;\n",
       "    }\n",
       "\n",
       "    .dataframe thead th {\n",
       "        text-align: right;\n",
       "    }\n",
       "</style>\n",
       "<table border=\"1\" class=\"dataframe\">\n",
       "  <thead>\n",
       "    <tr style=\"text-align: right;\">\n",
       "      <th></th>\n",
       "      <th>open</th>\n",
       "      <th>high</th>\n",
       "      <th>close</th>\n",
       "      <th>low</th>\n",
       "      <th>volume</th>\n",
       "      <th>...</th>\n",
       "      <th>ma10</th>\n",
       "      <th>ma20</th>\n",
       "      <th>v_ma5</th>\n",
       "      <th>v_ma10</th>\n",
       "      <th>v_ma20</th>\n",
       "    </tr>\n",
       "    <tr>\n",
       "      <th>date</th>\n",
       "      <th></th>\n",
       "      <th></th>\n",
       "      <th></th>\n",
       "      <th></th>\n",
       "      <th></th>\n",
       "      <th></th>\n",
       "      <th></th>\n",
       "      <th></th>\n",
       "      <th></th>\n",
       "      <th></th>\n",
       "      <th></th>\n",
       "    </tr>\n",
       "  </thead>\n",
       "  <tbody>\n",
       "    <tr>\n",
       "      <th>2016-01-29</th>\n",
       "      <td>2855.598</td>\n",
       "      <td>2965.309</td>\n",
       "      <td>2946.090</td>\n",
       "      <td>2854.371</td>\n",
       "      <td>113304256.0</td>\n",
       "      <td>...</td>\n",
       "      <td>3052.263</td>\n",
       "      <td>3178.529</td>\n",
       "      <td>110646072.0</td>\n",
       "      <td>111380396.8</td>\n",
       "      <td>122499499.2</td>\n",
       "    </tr>\n",
       "    <tr>\n",
       "      <th>2016-02-29</th>\n",
       "      <td>2939.580</td>\n",
       "      <td>2939.875</td>\n",
       "      <td>2877.467</td>\n",
       "      <td>2821.215</td>\n",
       "      <td>129341024.0</td>\n",
       "      <td>...</td>\n",
       "      <td>3026.766</td>\n",
       "      <td>2982.232</td>\n",
       "      <td>123694110.4</td>\n",
       "      <td>121202825.6</td>\n",
       "      <td>108902741.2</td>\n",
       "    </tr>\n",
       "    <tr>\n",
       "      <th>2016-03-31</th>\n",
       "      <td>3229.200</td>\n",
       "      <td>3241.927</td>\n",
       "      <td>3218.088</td>\n",
       "      <td>3208.665</td>\n",
       "      <td>121552072.0</td>\n",
       "      <td>...</td>\n",
       "      <td>3200.245</td>\n",
       "      <td>3138.345</td>\n",
       "      <td>107497318.4</td>\n",
       "      <td>138788992.8</td>\n",
       "      <td>129922554.0</td>\n",
       "    </tr>\n",
       "    <tr>\n",
       "      <th>2016-04-29</th>\n",
       "      <td>3153.537</td>\n",
       "      <td>3171.289</td>\n",
       "      <td>3156.745</td>\n",
       "      <td>3149.397</td>\n",
       "      <td>58029776.0</td>\n",
       "      <td>...</td>\n",
       "      <td>3180.772</td>\n",
       "      <td>3210.231</td>\n",
       "      <td>62888933.6</td>\n",
       "      <td>83644518.0</td>\n",
       "      <td>103044368.2</td>\n",
       "    </tr>\n",
       "    <tr>\n",
       "      <th>2016-05-31</th>\n",
       "      <td>3068.596</td>\n",
       "      <td>3170.926</td>\n",
       "      <td>3169.559</td>\n",
       "      <td>3068.596</td>\n",
       "      <td>138863104.0</td>\n",
       "      <td>...</td>\n",
       "      <td>3078.173</td>\n",
       "      <td>3094.970</td>\n",
       "      <td>75895244.0</td>\n",
       "      <td>69714819.6</td>\n",
       "      <td>74371733.0</td>\n",
       "    </tr>\n",
       "    <tr>\n",
       "      <th>...</th>\n",
       "      <td>...</td>\n",
       "      <td>...</td>\n",
       "      <td>...</td>\n",
       "      <td>...</td>\n",
       "      <td>...</td>\n",
       "      <td>...</td>\n",
       "      <td>...</td>\n",
       "      <td>...</td>\n",
       "      <td>...</td>\n",
       "      <td>...</td>\n",
       "      <td>...</td>\n",
       "    </tr>\n",
       "    <tr>\n",
       "      <th>2016-07-29</th>\n",
       "      <td>3217.192</td>\n",
       "      <td>3225.418</td>\n",
       "      <td>3203.930</td>\n",
       "      <td>3198.683</td>\n",
       "      <td>88044840.0</td>\n",
       "      <td>...</td>\n",
       "      <td>3236.933</td>\n",
       "      <td>3235.643</td>\n",
       "      <td>102453550.4</td>\n",
       "      <td>95620234.4</td>\n",
       "      <td>112470896.4</td>\n",
       "    </tr>\n",
       "    <tr>\n",
       "      <th>2016-08-31</th>\n",
       "      <td>3310.565</td>\n",
       "      <td>3333.972</td>\n",
       "      <td>3327.793</td>\n",
       "      <td>3304.655</td>\n",
       "      <td>79570808.0</td>\n",
       "      <td>...</td>\n",
       "      <td>3330.161</td>\n",
       "      <td>3305.741</td>\n",
       "      <td>82890593.6</td>\n",
       "      <td>95886160.0</td>\n",
       "      <td>107540506.4</td>\n",
       "    </tr>\n",
       "    <tr>\n",
       "      <th>2016-09-30</th>\n",
       "      <td>3240.177</td>\n",
       "      <td>3260.940</td>\n",
       "      <td>3253.284</td>\n",
       "      <td>3239.036</td>\n",
       "      <td>44978024.0</td>\n",
       "      <td>...</td>\n",
       "      <td>3254.355</td>\n",
       "      <td>3279.082</td>\n",
       "      <td>54814162.4</td>\n",
       "      <td>57857660.8</td>\n",
       "      <td>72046803.6</td>\n",
       "    </tr>\n",
       "    <tr>\n",
       "      <th>2016-10-31</th>\n",
       "      <td>NaN</td>\n",
       "      <td>NaN</td>\n",
       "      <td>NaN</td>\n",
       "      <td>NaN</td>\n",
       "      <td>NaN</td>\n",
       "      <td>...</td>\n",
       "      <td>NaN</td>\n",
       "      <td>NaN</td>\n",
       "      <td>NaN</td>\n",
       "      <td>NaN</td>\n",
       "      <td>NaN</td>\n",
       "    </tr>\n",
       "    <tr>\n",
       "      <th>2016-11-30</th>\n",
       "      <td>3557.640</td>\n",
       "      <td>3567.070</td>\n",
       "      <td>3538.000</td>\n",
       "      <td>3527.020</td>\n",
       "      <td>178560192.0</td>\n",
       "      <td>...</td>\n",
       "      <td>3488.535</td>\n",
       "      <td>3439.146</td>\n",
       "      <td>184444368.0</td>\n",
       "      <td>163708126.4</td>\n",
       "      <td>151030986.4</td>\n",
       "    </tr>\n",
       "  </tbody>\n",
       "</table>\n",
       "<p>11 rows × 13 columns</p>\n",
       "</div>"
      ],
      "text/plain": [
       "                open      high     close       low       volume  ...  \\\n",
       "date                                                             ...   \n",
       "2016-01-29  2855.598  2965.309  2946.090  2854.371  113304256.0  ...   \n",
       "2016-02-29  2939.580  2939.875  2877.467  2821.215  129341024.0  ...   \n",
       "2016-03-31  3229.200  3241.927  3218.088  3208.665  121552072.0  ...   \n",
       "2016-04-29  3153.537  3171.289  3156.745  3149.397   58029776.0  ...   \n",
       "2016-05-31  3068.596  3170.926  3169.559  3068.596  138863104.0  ...   \n",
       "...              ...       ...       ...       ...          ...  ...   \n",
       "2016-07-29  3217.192  3225.418  3203.930  3198.683   88044840.0  ...   \n",
       "2016-08-31  3310.565  3333.972  3327.793  3304.655   79570808.0  ...   \n",
       "2016-09-30  3240.177  3260.940  3253.284  3239.036   44978024.0  ...   \n",
       "2016-10-31       NaN       NaN       NaN       NaN          NaN  ...   \n",
       "2016-11-30  3557.640  3567.070  3538.000  3527.020  178560192.0  ...   \n",
       "\n",
       "                ma10      ma20        v_ma5       v_ma10       v_ma20  \n",
       "date                                                                   \n",
       "2016-01-29  3052.263  3178.529  110646072.0  111380396.8  122499499.2  \n",
       "2016-02-29  3026.766  2982.232  123694110.4  121202825.6  108902741.2  \n",
       "2016-03-31  3200.245  3138.345  107497318.4  138788992.8  129922554.0  \n",
       "2016-04-29  3180.772  3210.231   62888933.6   83644518.0  103044368.2  \n",
       "2016-05-31  3078.173  3094.970   75895244.0   69714819.6   74371733.0  \n",
       "...              ...       ...          ...          ...          ...  \n",
       "2016-07-29  3236.933  3235.643  102453550.4   95620234.4  112470896.4  \n",
       "2016-08-31  3330.161  3305.741   82890593.6   95886160.0  107540506.4  \n",
       "2016-09-30  3254.355  3279.082   54814162.4   57857660.8   72046803.6  \n",
       "2016-10-31       NaN       NaN          NaN          NaN          NaN  \n",
       "2016-11-30  3488.535  3439.146  184444368.0  163708126.4  151030986.4  \n",
       "\n",
       "[11 rows x 13 columns]"
      ]
     },
     "execution_count": 49,
     "metadata": {},
     "output_type": "execute_result"
    }
   ],
   "source": [
    "goertek.asfreq('BM')"
   ]
  },
  {
   "cell_type": "code",
   "execution_count": 57,
   "metadata": {},
   "outputs": [
    {
     "data": {
      "text/html": [
       "<div>\n",
       "<style scoped>\n",
       "    .dataframe tbody tr th:only-of-type {\n",
       "        vertical-align: middle;\n",
       "    }\n",
       "\n",
       "    .dataframe tbody tr th {\n",
       "        vertical-align: top;\n",
       "    }\n",
       "\n",
       "    .dataframe thead th {\n",
       "        text-align: right;\n",
       "    }\n",
       "</style>\n",
       "<table border=\"1\" class=\"dataframe\">\n",
       "  <thead>\n",
       "    <tr style=\"text-align: right;\">\n",
       "      <th></th>\n",
       "      <th>open</th>\n",
       "      <th>high</th>\n",
       "      <th>close</th>\n",
       "      <th>low</th>\n",
       "      <th>volume</th>\n",
       "      <th>...</th>\n",
       "      <th>ma10</th>\n",
       "      <th>ma20</th>\n",
       "      <th>v_ma5</th>\n",
       "      <th>v_ma10</th>\n",
       "      <th>v_ma20</th>\n",
       "    </tr>\n",
       "    <tr>\n",
       "      <th>date</th>\n",
       "      <th></th>\n",
       "      <th></th>\n",
       "      <th></th>\n",
       "      <th></th>\n",
       "      <th></th>\n",
       "      <th></th>\n",
       "      <th></th>\n",
       "      <th></th>\n",
       "      <th></th>\n",
       "      <th></th>\n",
       "      <th></th>\n",
       "    </tr>\n",
       "  </thead>\n",
       "  <tbody>\n",
       "    <tr>\n",
       "      <th>2016-01-04 00:00:00</th>\n",
       "      <td>3725.856</td>\n",
       "      <td>3726.245</td>\n",
       "      <td>3469.066</td>\n",
       "      <td>3468.949</td>\n",
       "      <td>115370672.0</td>\n",
       "      <td>...</td>\n",
       "      <td>3773.143</td>\n",
       "      <td>3726.205</td>\n",
       "      <td>115749635.2</td>\n",
       "      <td>145030968.0</td>\n",
       "      <td>138741052.8</td>\n",
       "    </tr>\n",
       "    <tr>\n",
       "      <th>2016-01-04 01:00:00</th>\n",
       "      <td>3725.856</td>\n",
       "      <td>3726.245</td>\n",
       "      <td>3469.066</td>\n",
       "      <td>3468.949</td>\n",
       "      <td>115370672.0</td>\n",
       "      <td>...</td>\n",
       "      <td>3773.143</td>\n",
       "      <td>3726.205</td>\n",
       "      <td>115749635.2</td>\n",
       "      <td>145030968.0</td>\n",
       "      <td>138741052.8</td>\n",
       "    </tr>\n",
       "    <tr>\n",
       "      <th>2016-01-04 02:00:00</th>\n",
       "      <td>3725.856</td>\n",
       "      <td>3726.245</td>\n",
       "      <td>3469.066</td>\n",
       "      <td>3468.949</td>\n",
       "      <td>115370672.0</td>\n",
       "      <td>...</td>\n",
       "      <td>3773.143</td>\n",
       "      <td>3726.205</td>\n",
       "      <td>115749635.2</td>\n",
       "      <td>145030968.0</td>\n",
       "      <td>138741052.8</td>\n",
       "    </tr>\n",
       "    <tr>\n",
       "      <th>2016-01-04 03:00:00</th>\n",
       "      <td>3725.856</td>\n",
       "      <td>3726.245</td>\n",
       "      <td>3469.066</td>\n",
       "      <td>3468.949</td>\n",
       "      <td>115370672.0</td>\n",
       "      <td>...</td>\n",
       "      <td>3773.143</td>\n",
       "      <td>3726.205</td>\n",
       "      <td>115749635.2</td>\n",
       "      <td>145030968.0</td>\n",
       "      <td>138741052.8</td>\n",
       "    </tr>\n",
       "    <tr>\n",
       "      <th>2016-01-04 04:00:00</th>\n",
       "      <td>3725.856</td>\n",
       "      <td>3726.245</td>\n",
       "      <td>3469.066</td>\n",
       "      <td>3468.949</td>\n",
       "      <td>115370672.0</td>\n",
       "      <td>...</td>\n",
       "      <td>3773.143</td>\n",
       "      <td>3726.205</td>\n",
       "      <td>115749635.2</td>\n",
       "      <td>145030968.0</td>\n",
       "      <td>138741052.8</td>\n",
       "    </tr>\n",
       "    <tr>\n",
       "      <th>...</th>\n",
       "      <td>...</td>\n",
       "      <td>...</td>\n",
       "      <td>...</td>\n",
       "      <td>...</td>\n",
       "      <td>...</td>\n",
       "      <td>...</td>\n",
       "      <td>...</td>\n",
       "      <td>...</td>\n",
       "      <td>...</td>\n",
       "      <td>...</td>\n",
       "      <td>...</td>\n",
       "    </tr>\n",
       "    <tr>\n",
       "      <th>2016-12-22 20:00:00</th>\n",
       "      <td>3335.120</td>\n",
       "      <td>3340.360</td>\n",
       "      <td>3335.670</td>\n",
       "      <td>3322.720</td>\n",
       "      <td>92277248.0</td>\n",
       "      <td>...</td>\n",
       "      <td>3368.558</td>\n",
       "      <td>3440.622</td>\n",
       "      <td>92103587.2</td>\n",
       "      <td>115836250.4</td>\n",
       "      <td>141973738.0</td>\n",
       "    </tr>\n",
       "    <tr>\n",
       "      <th>2016-12-22 21:00:00</th>\n",
       "      <td>3335.120</td>\n",
       "      <td>3340.360</td>\n",
       "      <td>3335.670</td>\n",
       "      <td>3322.720</td>\n",
       "      <td>92277248.0</td>\n",
       "      <td>...</td>\n",
       "      <td>3368.558</td>\n",
       "      <td>3440.622</td>\n",
       "      <td>92103587.2</td>\n",
       "      <td>115836250.4</td>\n",
       "      <td>141973738.0</td>\n",
       "    </tr>\n",
       "    <tr>\n",
       "      <th>2016-12-22 22:00:00</th>\n",
       "      <td>3335.120</td>\n",
       "      <td>3340.360</td>\n",
       "      <td>3335.670</td>\n",
       "      <td>3322.720</td>\n",
       "      <td>92277248.0</td>\n",
       "      <td>...</td>\n",
       "      <td>3368.558</td>\n",
       "      <td>3440.622</td>\n",
       "      <td>92103587.2</td>\n",
       "      <td>115836250.4</td>\n",
       "      <td>141973738.0</td>\n",
       "    </tr>\n",
       "    <tr>\n",
       "      <th>2016-12-22 23:00:00</th>\n",
       "      <td>3335.120</td>\n",
       "      <td>3340.360</td>\n",
       "      <td>3335.670</td>\n",
       "      <td>3322.720</td>\n",
       "      <td>92277248.0</td>\n",
       "      <td>...</td>\n",
       "      <td>3368.558</td>\n",
       "      <td>3440.622</td>\n",
       "      <td>92103587.2</td>\n",
       "      <td>115836250.4</td>\n",
       "      <td>141973738.0</td>\n",
       "    </tr>\n",
       "    <tr>\n",
       "      <th>2016-12-23 00:00:00</th>\n",
       "      <td>3333.400</td>\n",
       "      <td>3334.890</td>\n",
       "      <td>3307.600</td>\n",
       "      <td>3300.880</td>\n",
       "      <td>97444712.0</td>\n",
       "      <td>...</td>\n",
       "      <td>3349.948</td>\n",
       "      <td>3429.937</td>\n",
       "      <td>93437446.4</td>\n",
       "      <td>110550392.0</td>\n",
       "      <td>139164898.4</td>\n",
       "    </tr>\n",
       "  </tbody>\n",
       "</table>\n",
       "<p>8497 rows × 13 columns</p>\n",
       "</div>"
      ],
      "text/plain": [
       "                         open      high     close       low       volume  ...  \\\n",
       "date                                                                      ...   \n",
       "2016-01-04 00:00:00  3725.856  3726.245  3469.066  3468.949  115370672.0  ...   \n",
       "2016-01-04 01:00:00  3725.856  3726.245  3469.066  3468.949  115370672.0  ...   \n",
       "2016-01-04 02:00:00  3725.856  3726.245  3469.066  3468.949  115370672.0  ...   \n",
       "2016-01-04 03:00:00  3725.856  3726.245  3469.066  3468.949  115370672.0  ...   \n",
       "2016-01-04 04:00:00  3725.856  3726.245  3469.066  3468.949  115370672.0  ...   \n",
       "...                       ...       ...       ...       ...          ...  ...   \n",
       "2016-12-22 20:00:00  3335.120  3340.360  3335.670  3322.720   92277248.0  ...   \n",
       "2016-12-22 21:00:00  3335.120  3340.360  3335.670  3322.720   92277248.0  ...   \n",
       "2016-12-22 22:00:00  3335.120  3340.360  3335.670  3322.720   92277248.0  ...   \n",
       "2016-12-22 23:00:00  3335.120  3340.360  3335.670  3322.720   92277248.0  ...   \n",
       "2016-12-23 00:00:00  3333.400  3334.890  3307.600  3300.880   97444712.0  ...   \n",
       "\n",
       "                         ma10      ma20        v_ma5       v_ma10       v_ma20  \n",
       "date                                                                            \n",
       "2016-01-04 00:00:00  3773.143  3726.205  115749635.2  145030968.0  138741052.8  \n",
       "2016-01-04 01:00:00  3773.143  3726.205  115749635.2  145030968.0  138741052.8  \n",
       "2016-01-04 02:00:00  3773.143  3726.205  115749635.2  145030968.0  138741052.8  \n",
       "2016-01-04 03:00:00  3773.143  3726.205  115749635.2  145030968.0  138741052.8  \n",
       "2016-01-04 04:00:00  3773.143  3726.205  115749635.2  145030968.0  138741052.8  \n",
       "...                       ...       ...          ...          ...          ...  \n",
       "2016-12-22 20:00:00  3368.558  3440.622   92103587.2  115836250.4  141973738.0  \n",
       "2016-12-22 21:00:00  3368.558  3440.622   92103587.2  115836250.4  141973738.0  \n",
       "2016-12-22 22:00:00  3368.558  3440.622   92103587.2  115836250.4  141973738.0  \n",
       "2016-12-22 23:00:00  3368.558  3440.622   92103587.2  115836250.4  141973738.0  \n",
       "2016-12-23 00:00:00  3349.948  3429.937   93437446.4  110550392.0  139164898.4  \n",
       "\n",
       "[8497 rows x 13 columns]"
      ]
     },
     "execution_count": 57,
     "metadata": {},
     "output_type": "execute_result"
    }
   ],
   "source": [
    "goertek.asfreq('H',method='ffill')"
   ]
  },
  {
   "cell_type": "code",
   "execution_count": 58,
   "metadata": {},
   "outputs": [],
   "source": [
    "goertek_m=pd.read_csv('data/gertek_2016_d.csv',parse_dates=True,index_col='date')"
   ]
  },
  {
   "cell_type": "code",
   "execution_count": 59,
   "metadata": {},
   "outputs": [
    {
     "data": {
      "text/html": [
       "<div>\n",
       "<style scoped>\n",
       "    .dataframe tbody tr th:only-of-type {\n",
       "        vertical-align: middle;\n",
       "    }\n",
       "\n",
       "    .dataframe tbody tr th {\n",
       "        vertical-align: top;\n",
       "    }\n",
       "\n",
       "    .dataframe thead th {\n",
       "        text-align: right;\n",
       "    }\n",
       "</style>\n",
       "<table border=\"1\" class=\"dataframe\">\n",
       "  <thead>\n",
       "    <tr style=\"text-align: right;\">\n",
       "      <th></th>\n",
       "      <th>open</th>\n",
       "      <th>high</th>\n",
       "      <th>close</th>\n",
       "      <th>low</th>\n",
       "      <th>volume</th>\n",
       "      <th>...</th>\n",
       "      <th>ma10</th>\n",
       "      <th>ma20</th>\n",
       "      <th>v_ma5</th>\n",
       "      <th>v_ma10</th>\n",
       "      <th>v_ma20</th>\n",
       "    </tr>\n",
       "    <tr>\n",
       "      <th>date</th>\n",
       "      <th></th>\n",
       "      <th></th>\n",
       "      <th></th>\n",
       "      <th></th>\n",
       "      <th></th>\n",
       "      <th></th>\n",
       "      <th></th>\n",
       "      <th></th>\n",
       "      <th></th>\n",
       "      <th></th>\n",
       "      <th></th>\n",
       "    </tr>\n",
       "  </thead>\n",
       "  <tbody>\n",
       "    <tr>\n",
       "      <th>2016-12-23</th>\n",
       "      <td>3333.40</td>\n",
       "      <td>3334.89</td>\n",
       "      <td>3307.60</td>\n",
       "      <td>3300.88</td>\n",
       "      <td>97444712.0</td>\n",
       "      <td>...</td>\n",
       "      <td>3349.948</td>\n",
       "      <td>3429.937</td>\n",
       "      <td>93437446.4</td>\n",
       "      <td>110550392.0</td>\n",
       "      <td>139164898.4</td>\n",
       "    </tr>\n",
       "    <tr>\n",
       "      <th>2016-12-22</th>\n",
       "      <td>3335.12</td>\n",
       "      <td>3340.36</td>\n",
       "      <td>3335.67</td>\n",
       "      <td>3322.72</td>\n",
       "      <td>92277248.0</td>\n",
       "      <td>...</td>\n",
       "      <td>3368.558</td>\n",
       "      <td>3440.622</td>\n",
       "      <td>92103587.2</td>\n",
       "      <td>115836250.4</td>\n",
       "      <td>141973738.0</td>\n",
       "    </tr>\n",
       "    <tr>\n",
       "      <th>2016-12-21</th>\n",
       "      <td>3313.75</td>\n",
       "      <td>3342.48</td>\n",
       "      <td>3338.54</td>\n",
       "      <td>3313.75</td>\n",
       "      <td>108255000.0</td>\n",
       "      <td>...</td>\n",
       "      <td>3382.005</td>\n",
       "      <td>3448.276</td>\n",
       "      <td>96640270.4</td>\n",
       "      <td>118346918.4</td>\n",
       "      <td>144647190.8</td>\n",
       "    </tr>\n",
       "    <tr>\n",
       "      <th>2016-12-20</th>\n",
       "      <td>3328.30</td>\n",
       "      <td>3329.10</td>\n",
       "      <td>3309.06</td>\n",
       "      <td>3289.27</td>\n",
       "      <td>87569592.0</td>\n",
       "      <td>...</td>\n",
       "      <td>3395.726</td>\n",
       "      <td>3455.085</td>\n",
       "      <td>99790819.2</td>\n",
       "      <td>118955928.8</td>\n",
       "      <td>147353865.6</td>\n",
       "    </tr>\n",
       "    <tr>\n",
       "      <th>2016-12-19</th>\n",
       "      <td>3342.34</td>\n",
       "      <td>3344.86</td>\n",
       "      <td>3328.98</td>\n",
       "      <td>3325.00</td>\n",
       "      <td>81640680.0</td>\n",
       "      <td>...</td>\n",
       "      <td>3410.735</td>\n",
       "      <td>3463.050</td>\n",
       "      <td>106497921.6</td>\n",
       "      <td>121751879.2</td>\n",
       "      <td>151401558.8</td>\n",
       "    </tr>\n",
       "  </tbody>\n",
       "</table>\n",
       "<p>5 rows × 13 columns</p>\n",
       "</div>"
      ],
      "text/plain": [
       "               open     high    close      low       volume  ...      ma10  \\\n",
       "date                                                         ...             \n",
       "2016-12-23  3333.40  3334.89  3307.60  3300.88   97444712.0  ...  3349.948   \n",
       "2016-12-22  3335.12  3340.36  3335.67  3322.72   92277248.0  ...  3368.558   \n",
       "2016-12-21  3313.75  3342.48  3338.54  3313.75  108255000.0  ...  3382.005   \n",
       "2016-12-20  3328.30  3329.10  3309.06  3289.27   87569592.0  ...  3395.726   \n",
       "2016-12-19  3342.34  3344.86  3328.98  3325.00   81640680.0  ...  3410.735   \n",
       "\n",
       "                ma20        v_ma5       v_ma10       v_ma20  \n",
       "date                                                         \n",
       "2016-12-23  3429.937   93437446.4  110550392.0  139164898.4  \n",
       "2016-12-22  3440.622   92103587.2  115836250.4  141973738.0  \n",
       "2016-12-21  3448.276   96640270.4  118346918.4  144647190.8  \n",
       "2016-12-20  3455.085   99790819.2  118955928.8  147353865.6  \n",
       "2016-12-19  3463.050  106497921.6  121751879.2  151401558.8  \n",
       "\n",
       "[5 rows x 13 columns]"
      ]
     },
     "execution_count": 59,
     "metadata": {},
     "output_type": "execute_result"
    }
   ],
   "source": [
    "goertek_m.head()"
   ]
  },
  {
   "cell_type": "code",
   "execution_count": 60,
   "metadata": {},
   "outputs": [],
   "source": [
    "goertek_resample=goertek_m.resample('30Min') #pandas 0.18 http://pandas.pydata.org/pandas-docs/version/0.18.0/whatsnew.html#resample-api"
   ]
  },
  {
   "cell_type": "code",
   "execution_count": 61,
   "metadata": {},
   "outputs": [
    {
     "data": {
      "text/plain": [
       "pandas.core.resample.DatetimeIndexResampler"
      ]
     },
     "execution_count": 61,
     "metadata": {},
     "output_type": "execute_result"
    }
   ],
   "source": [
    "type(goertek_resample)"
   ]
  },
  {
   "cell_type": "code",
   "execution_count": 62,
   "metadata": {},
   "outputs": [
    {
     "data": {
      "text/html": [
       "<div>\n",
       "<style scoped>\n",
       "    .dataframe tbody tr th:only-of-type {\n",
       "        vertical-align: middle;\n",
       "    }\n",
       "\n",
       "    .dataframe tbody tr th {\n",
       "        vertical-align: top;\n",
       "    }\n",
       "\n",
       "    .dataframe thead th {\n",
       "        text-align: right;\n",
       "    }\n",
       "</style>\n",
       "<table border=\"1\" class=\"dataframe\">\n",
       "  <thead>\n",
       "    <tr style=\"text-align: right;\">\n",
       "      <th></th>\n",
       "      <th>open</th>\n",
       "      <th>high</th>\n",
       "      <th>close</th>\n",
       "      <th>low</th>\n",
       "      <th>volume</th>\n",
       "      <th>...</th>\n",
       "      <th>ma10</th>\n",
       "      <th>ma20</th>\n",
       "      <th>v_ma5</th>\n",
       "      <th>v_ma10</th>\n",
       "      <th>v_ma20</th>\n",
       "    </tr>\n",
       "    <tr>\n",
       "      <th>date</th>\n",
       "      <th></th>\n",
       "      <th></th>\n",
       "      <th></th>\n",
       "      <th></th>\n",
       "      <th></th>\n",
       "      <th></th>\n",
       "      <th></th>\n",
       "      <th></th>\n",
       "      <th></th>\n",
       "      <th></th>\n",
       "      <th></th>\n",
       "    </tr>\n",
       "  </thead>\n",
       "  <tbody>\n",
       "    <tr>\n",
       "      <th>2016-01-04 00:00:00</th>\n",
       "      <td>3725.856</td>\n",
       "      <td>3726.245</td>\n",
       "      <td>3469.066</td>\n",
       "      <td>3468.949</td>\n",
       "      <td>115370672.0</td>\n",
       "      <td>...</td>\n",
       "      <td>3773.143</td>\n",
       "      <td>3726.205</td>\n",
       "      <td>115749635.2</td>\n",
       "      <td>145030968.0</td>\n",
       "      <td>138741052.8</td>\n",
       "    </tr>\n",
       "    <tr>\n",
       "      <th>2016-01-04 00:30:00</th>\n",
       "      <td>NaN</td>\n",
       "      <td>NaN</td>\n",
       "      <td>NaN</td>\n",
       "      <td>NaN</td>\n",
       "      <td>NaN</td>\n",
       "      <td>...</td>\n",
       "      <td>NaN</td>\n",
       "      <td>NaN</td>\n",
       "      <td>NaN</td>\n",
       "      <td>NaN</td>\n",
       "      <td>NaN</td>\n",
       "    </tr>\n",
       "    <tr>\n",
       "      <th>2016-01-04 01:00:00</th>\n",
       "      <td>NaN</td>\n",
       "      <td>NaN</td>\n",
       "      <td>NaN</td>\n",
       "      <td>NaN</td>\n",
       "      <td>NaN</td>\n",
       "      <td>...</td>\n",
       "      <td>NaN</td>\n",
       "      <td>NaN</td>\n",
       "      <td>NaN</td>\n",
       "      <td>NaN</td>\n",
       "      <td>NaN</td>\n",
       "    </tr>\n",
       "    <tr>\n",
       "      <th>2016-01-04 01:30:00</th>\n",
       "      <td>NaN</td>\n",
       "      <td>NaN</td>\n",
       "      <td>NaN</td>\n",
       "      <td>NaN</td>\n",
       "      <td>NaN</td>\n",
       "      <td>...</td>\n",
       "      <td>NaN</td>\n",
       "      <td>NaN</td>\n",
       "      <td>NaN</td>\n",
       "      <td>NaN</td>\n",
       "      <td>NaN</td>\n",
       "    </tr>\n",
       "    <tr>\n",
       "      <th>2016-01-04 02:00:00</th>\n",
       "      <td>NaN</td>\n",
       "      <td>NaN</td>\n",
       "      <td>NaN</td>\n",
       "      <td>NaN</td>\n",
       "      <td>NaN</td>\n",
       "      <td>...</td>\n",
       "      <td>NaN</td>\n",
       "      <td>NaN</td>\n",
       "      <td>NaN</td>\n",
       "      <td>NaN</td>\n",
       "      <td>NaN</td>\n",
       "    </tr>\n",
       "    <tr>\n",
       "      <th>...</th>\n",
       "      <td>...</td>\n",
       "      <td>...</td>\n",
       "      <td>...</td>\n",
       "      <td>...</td>\n",
       "      <td>...</td>\n",
       "      <td>...</td>\n",
       "      <td>...</td>\n",
       "      <td>...</td>\n",
       "      <td>...</td>\n",
       "      <td>...</td>\n",
       "      <td>...</td>\n",
       "    </tr>\n",
       "    <tr>\n",
       "      <th>2016-12-22 22:00:00</th>\n",
       "      <td>NaN</td>\n",
       "      <td>NaN</td>\n",
       "      <td>NaN</td>\n",
       "      <td>NaN</td>\n",
       "      <td>NaN</td>\n",
       "      <td>...</td>\n",
       "      <td>NaN</td>\n",
       "      <td>NaN</td>\n",
       "      <td>NaN</td>\n",
       "      <td>NaN</td>\n",
       "      <td>NaN</td>\n",
       "    </tr>\n",
       "    <tr>\n",
       "      <th>2016-12-22 22:30:00</th>\n",
       "      <td>NaN</td>\n",
       "      <td>NaN</td>\n",
       "      <td>NaN</td>\n",
       "      <td>NaN</td>\n",
       "      <td>NaN</td>\n",
       "      <td>...</td>\n",
       "      <td>NaN</td>\n",
       "      <td>NaN</td>\n",
       "      <td>NaN</td>\n",
       "      <td>NaN</td>\n",
       "      <td>NaN</td>\n",
       "    </tr>\n",
       "    <tr>\n",
       "      <th>2016-12-22 23:00:00</th>\n",
       "      <td>NaN</td>\n",
       "      <td>NaN</td>\n",
       "      <td>NaN</td>\n",
       "      <td>NaN</td>\n",
       "      <td>NaN</td>\n",
       "      <td>...</td>\n",
       "      <td>NaN</td>\n",
       "      <td>NaN</td>\n",
       "      <td>NaN</td>\n",
       "      <td>NaN</td>\n",
       "      <td>NaN</td>\n",
       "    </tr>\n",
       "    <tr>\n",
       "      <th>2016-12-22 23:30:00</th>\n",
       "      <td>NaN</td>\n",
       "      <td>NaN</td>\n",
       "      <td>NaN</td>\n",
       "      <td>NaN</td>\n",
       "      <td>NaN</td>\n",
       "      <td>...</td>\n",
       "      <td>NaN</td>\n",
       "      <td>NaN</td>\n",
       "      <td>NaN</td>\n",
       "      <td>NaN</td>\n",
       "      <td>NaN</td>\n",
       "    </tr>\n",
       "    <tr>\n",
       "      <th>2016-12-23 00:00:00</th>\n",
       "      <td>3333.400</td>\n",
       "      <td>3334.890</td>\n",
       "      <td>3307.600</td>\n",
       "      <td>3300.880</td>\n",
       "      <td>97444712.0</td>\n",
       "      <td>...</td>\n",
       "      <td>3349.948</td>\n",
       "      <td>3429.937</td>\n",
       "      <td>93437446.4</td>\n",
       "      <td>110550392.0</td>\n",
       "      <td>139164898.4</td>\n",
       "    </tr>\n",
       "  </tbody>\n",
       "</table>\n",
       "<p>16993 rows × 13 columns</p>\n",
       "</div>"
      ],
      "text/plain": [
       "                         open      high     close       low       volume  ...  \\\n",
       "date                                                                      ...   \n",
       "2016-01-04 00:00:00  3725.856  3726.245  3469.066  3468.949  115370672.0  ...   \n",
       "2016-01-04 00:30:00       NaN       NaN       NaN       NaN          NaN  ...   \n",
       "2016-01-04 01:00:00       NaN       NaN       NaN       NaN          NaN  ...   \n",
       "2016-01-04 01:30:00       NaN       NaN       NaN       NaN          NaN  ...   \n",
       "2016-01-04 02:00:00       NaN       NaN       NaN       NaN          NaN  ...   \n",
       "...                       ...       ...       ...       ...          ...  ...   \n",
       "2016-12-22 22:00:00       NaN       NaN       NaN       NaN          NaN  ...   \n",
       "2016-12-22 22:30:00       NaN       NaN       NaN       NaN          NaN  ...   \n",
       "2016-12-22 23:00:00       NaN       NaN       NaN       NaN          NaN  ...   \n",
       "2016-12-22 23:30:00       NaN       NaN       NaN       NaN          NaN  ...   \n",
       "2016-12-23 00:00:00  3333.400  3334.890  3307.600  3300.880   97444712.0  ...   \n",
       "\n",
       "                         ma10      ma20        v_ma5       v_ma10       v_ma20  \n",
       "date                                                                            \n",
       "2016-01-04 00:00:00  3773.143  3726.205  115749635.2  145030968.0  138741052.8  \n",
       "2016-01-04 00:30:00       NaN       NaN          NaN          NaN          NaN  \n",
       "2016-01-04 01:00:00       NaN       NaN          NaN          NaN          NaN  \n",
       "2016-01-04 01:30:00       NaN       NaN          NaN          NaN          NaN  \n",
       "2016-01-04 02:00:00       NaN       NaN          NaN          NaN          NaN  \n",
       "...                       ...       ...          ...          ...          ...  \n",
       "2016-12-22 22:00:00       NaN       NaN          NaN          NaN          NaN  \n",
       "2016-12-22 22:30:00       NaN       NaN          NaN          NaN          NaN  \n",
       "2016-12-22 23:00:00       NaN       NaN          NaN          NaN          NaN  \n",
       "2016-12-22 23:30:00       NaN       NaN          NaN          NaN          NaN  \n",
       "2016-12-23 00:00:00  3349.948  3429.937   93437446.4  110550392.0  139164898.4  \n",
       "\n",
       "[16993 rows x 13 columns]"
      ]
     },
     "execution_count": 62,
     "metadata": {},
     "output_type": "execute_result"
    }
   ],
   "source": [
    "goertek_resample.mean()"
   ]
  },
  {
   "cell_type": "markdown",
   "metadata": {},
   "source": [
    "+ B, BM: This stands for business day, business month. These are the working\n",
    "days of the month, that is, any day that is not a holiday or a weekend.\n",
    "+  D, W, M, Q, A: It stands for calendar day, week, month, quarter, year-end.\n",
    "+  H, T, S, L, U: It stands for hour, minute, second, millisecond, and\n",
    "microsecond."
   ]
  },
  {
   "cell_type": "markdown",
   "metadata": {},
   "source": [
    "### Stock datas case"
   ]
  },
  {
   "cell_type": "code",
   "execution_count": 63,
   "metadata": {},
   "outputs": [],
   "source": [
    "#!pip install tushare\n",
    "\n",
    "#!pip install --force-reinstall --upgrade tushare"
   ]
  },
  {
   "cell_type": "code",
   "execution_count": 64,
   "metadata": {},
   "outputs": [],
   "source": [
    "#!ls -l ./"
   ]
  },
  {
   "cell_type": "code",
   "execution_count": 2,
   "metadata": {},
   "outputs": [],
   "source": [
    "import tushare as ts\n",
    "from datetime import datetime"
   ]
  },
  {
   "cell_type": "code",
   "execution_count": 3,
   "metadata": {},
   "outputs": [],
   "source": [
    "auto_list=['000625','600104','002594','601238']\n",
    "#auto_var=['changan','sqjt','byd','gqjt']"
   ]
  },
  {
   "cell_type": "code",
   "execution_count": 15,
   "metadata": {},
   "outputs": [
    {
     "name": "stdout",
     "output_type": "stream",
     "text": [
      "本接口即将停止更新，请尽快使用Pro版接口：https://tushare.pro/document/2\n",
      "[Getting data:]#"
     ]
    }
   ],
   "source": [
    "#for stock,var in zip(auto_list,auto_var):\n",
    "#    globals()[var] = ts.get_h_data(stock,'2016-01-01','2016-12-23')\n",
    "changan=ts.get_h_data('000625','2016-01-01','2016-12-23')"
   ]
  },
  {
   "cell_type": "code",
   "execution_count": 5,
   "metadata": {},
   "outputs": [
    {
     "name": "stdout",
     "output_type": "stream",
     "text": [
      "本接口即将停止更新，请尽快使用Pro版接口：https://tushare.pro/document/2\n",
      "[Getting data:]#"
     ]
    }
   ],
   "source": [
    "sqjt=ts.get_h_data('600104','2016-01-01','2016-12-23')"
   ]
  },
  {
   "cell_type": "code",
   "execution_count": 6,
   "metadata": {},
   "outputs": [
    {
     "name": "stdout",
     "output_type": "stream",
     "text": [
      "本接口即将停止更新，请尽快使用Pro版接口：https://tushare.pro/document/2\n",
      "[Getting data:]#"
     ]
    }
   ],
   "source": [
    "byd=ts.get_h_data('002594','2016-01-01','2016-12-23')"
   ]
  },
  {
   "cell_type": "code",
   "execution_count": 7,
   "metadata": {},
   "outputs": [
    {
     "name": "stdout",
     "output_type": "stream",
     "text": [
      "本接口即将停止更新，请尽快使用Pro版接口：https://tushare.pro/document/2\n",
      "[Getting data:]#<urlopen error timed out>\n"
     ]
    }
   ],
   "source": [
    "gqjt=ts.get_h_data('601238','2016-01-01','2016-12-23')"
   ]
  },
  {
   "cell_type": "code",
   "execution_count": null,
   "metadata": {},
   "outputs": [],
   "source": [
    "### 数据找不到了（改不出来）"
   ]
  },
  {
   "cell_type": "code",
   "execution_count": 13,
   "metadata": {},
   "outputs": [
    {
     "name": "stdout",
     "output_type": "stream",
     "text": [
      "Empty DataFrame\n",
      "Columns: []\n",
      "Index: []\n"
     ]
    }
   ],
   "source": [
    "#changan=pd.read_csv('../data/changan.csv',index_col='date',parse_dates=True)\n",
    "\n",
    "\n",
    "changan.head()"
   ]
  },
  {
   "cell_type": "code",
   "execution_count": 10,
   "metadata": {
    "scrolled": true
   },
   "outputs": [
    {
     "ename": "ValueError",
     "evalue": "Cannot describe a DataFrame without columns",
     "output_type": "error",
     "traceback": [
      "\u001b[1;31m---------------------------------------------------------------------------\u001b[0m",
      "\u001b[1;31mValueError\u001b[0m                                Traceback (most recent call last)",
      "\u001b[1;32m<ipython-input-10-52367bd21017>\u001b[0m in \u001b[0;36m<module>\u001b[1;34m\u001b[0m\n\u001b[1;32m----> 1\u001b[1;33m \u001b[0mchangan\u001b[0m\u001b[1;33m.\u001b[0m\u001b[0mdescribe\u001b[0m\u001b[1;33m(\u001b[0m\u001b[1;33m)\u001b[0m\u001b[1;33m\u001b[0m\u001b[0m\n\u001b[0m",
      "\u001b[1;32mc:\\users\\123\\appdata\\local\\programs\\python\\python37\\lib\\site-packages\\pandas\\core\\generic.py\u001b[0m in \u001b[0;36mdescribe\u001b[1;34m(self, percentiles, include, exclude, datetime_is_numeric)\u001b[0m\n\u001b[0;32m   9969\u001b[0m         \"\"\"\n\u001b[0;32m   9970\u001b[0m         \u001b[1;32mif\u001b[0m \u001b[0mself\u001b[0m\u001b[1;33m.\u001b[0m\u001b[0mndim\u001b[0m \u001b[1;33m==\u001b[0m \u001b[1;36m2\u001b[0m \u001b[1;32mand\u001b[0m \u001b[0mself\u001b[0m\u001b[1;33m.\u001b[0m\u001b[0mcolumns\u001b[0m\u001b[1;33m.\u001b[0m\u001b[0msize\u001b[0m \u001b[1;33m==\u001b[0m \u001b[1;36m0\u001b[0m\u001b[1;33m:\u001b[0m\u001b[1;33m\u001b[0m\u001b[0m\n\u001b[1;32m-> 9971\u001b[1;33m             \u001b[1;32mraise\u001b[0m \u001b[0mValueError\u001b[0m\u001b[1;33m(\u001b[0m\u001b[1;34m\"Cannot describe a DataFrame without columns\"\u001b[0m\u001b[1;33m)\u001b[0m\u001b[1;33m\u001b[0m\u001b[0m\n\u001b[0m\u001b[0;32m   9972\u001b[0m \u001b[1;33m\u001b[0m\u001b[0m\n\u001b[0;32m   9973\u001b[0m         \u001b[1;32mif\u001b[0m \u001b[0mpercentiles\u001b[0m \u001b[1;32mis\u001b[0m \u001b[1;32mnot\u001b[0m \u001b[1;32mNone\u001b[0m\u001b[1;33m:\u001b[0m\u001b[1;33m\u001b[0m\u001b[0m\n",
      "\u001b[1;31mValueError\u001b[0m: Cannot describe a DataFrame without columns"
     ]
    }
   ],
   "source": [
    "changan.describe() "
   ]
  },
  {
   "cell_type": "code",
   "execution_count": 11,
   "metadata": {
    "scrolled": true
   },
   "outputs": [
    {
     "name": "stdout",
     "output_type": "stream",
     "text": [
      "<class 'pandas.core.frame.DataFrame'>\n",
      "Index: 0 entries\n",
      "Empty DataFrame"
     ]
    }
   ],
   "source": [
    "changan.info()"
   ]
  },
  {
   "cell_type": "code",
   "execution_count": 77,
   "metadata": {},
   "outputs": [
    {
     "ename": "KeyError",
     "evalue": "'close'",
     "output_type": "error",
     "traceback": [
      "\u001b[1;31m---------------------------------------------------------------------------\u001b[0m",
      "\u001b[1;31mKeyError\u001b[0m                                  Traceback (most recent call last)",
      "\u001b[1;32mc:\\users\\123\\appdata\\local\\programs\\python\\python37\\lib\\site-packages\\pandas\\core\\indexes\\base.py\u001b[0m in \u001b[0;36mget_loc\u001b[1;34m(self, key, method, tolerance)\u001b[0m\n\u001b[0;32m   2888\u001b[0m                 )\n\u001b[1;32m-> 2889\u001b[1;33m             \u001b[0mcasted_key\u001b[0m \u001b[1;33m=\u001b[0m \u001b[0mself\u001b[0m\u001b[1;33m.\u001b[0m\u001b[0m_maybe_cast_indexer\u001b[0m\u001b[1;33m(\u001b[0m\u001b[0mkey\u001b[0m\u001b[1;33m)\u001b[0m\u001b[1;33m\u001b[0m\u001b[0m\n\u001b[0m\u001b[0;32m   2890\u001b[0m             \u001b[1;32mtry\u001b[0m\u001b[1;33m:\u001b[0m\u001b[1;33m\u001b[0m\u001b[0m\n",
      "\u001b[1;32mpandas\\_libs\\index.pyx\u001b[0m in \u001b[0;36mpandas._libs.index.IndexEngine.get_loc\u001b[1;34m()\u001b[0m\n",
      "\u001b[1;32mpandas\\_libs\\index.pyx\u001b[0m in \u001b[0;36mpandas._libs.index.IndexEngine.get_loc\u001b[1;34m()\u001b[0m\n",
      "\u001b[1;32mpandas\\_libs\\hashtable_class_helper.pxi\u001b[0m in \u001b[0;36mpandas._libs.hashtable.PyObjectHashTable.get_item\u001b[1;34m()\u001b[0m\n",
      "\u001b[1;32mpandas\\_libs\\hashtable_class_helper.pxi\u001b[0m in \u001b[0;36mpandas._libs.hashtable.PyObjectHashTable.get_item\u001b[1;34m()\u001b[0m\n",
      "\u001b[1;31mKeyError\u001b[0m: 'close'",
      "\nThe above exception was the direct cause of the following exception:\n",
      "\u001b[1;31mKeyError\u001b[0m                                  Traceback (most recent call last)",
      "\u001b[1;32m<ipython-input-77-8ef4e1480c7c>\u001b[0m in \u001b[0;36m<module>\u001b[1;34m\u001b[0m\n\u001b[1;32m----> 1\u001b[1;33m \u001b[0mchangan\u001b[0m\u001b[1;33m[\u001b[0m\u001b[1;34m'close'\u001b[0m\u001b[1;33m]\u001b[0m\u001b[1;33m.\u001b[0m\u001b[0mplot\u001b[0m\u001b[1;33m(\u001b[0m\u001b[0mlegend\u001b[0m\u001b[1;33m=\u001b[0m\u001b[1;32mTrue\u001b[0m\u001b[1;33m,\u001b[0m\u001b[0mfigsize\u001b[0m\u001b[1;33m=\u001b[0m\u001b[1;33m(\u001b[0m\u001b[1;36m10\u001b[0m\u001b[1;33m,\u001b[0m\u001b[1;36m4\u001b[0m\u001b[1;33m)\u001b[0m\u001b[1;33m)\u001b[0m\u001b[1;33m\u001b[0m\u001b[0m\n\u001b[0m",
      "\u001b[1;32mc:\\users\\123\\appdata\\local\\programs\\python\\python37\\lib\\site-packages\\pandas\\core\\frame.py\u001b[0m in \u001b[0;36m__getitem__\u001b[1;34m(self, key)\u001b[0m\n\u001b[0;32m   2900\u001b[0m             \u001b[1;32mif\u001b[0m \u001b[0mself\u001b[0m\u001b[1;33m.\u001b[0m\u001b[0mcolumns\u001b[0m\u001b[1;33m.\u001b[0m\u001b[0mnlevels\u001b[0m \u001b[1;33m>\u001b[0m \u001b[1;36m1\u001b[0m\u001b[1;33m:\u001b[0m\u001b[1;33m\u001b[0m\u001b[0m\n\u001b[0;32m   2901\u001b[0m                 \u001b[1;32mreturn\u001b[0m \u001b[0mself\u001b[0m\u001b[1;33m.\u001b[0m\u001b[0m_getitem_multilevel\u001b[0m\u001b[1;33m(\u001b[0m\u001b[0mkey\u001b[0m\u001b[1;33m)\u001b[0m\u001b[1;33m\u001b[0m\u001b[0m\n\u001b[1;32m-> 2902\u001b[1;33m             \u001b[0mindexer\u001b[0m \u001b[1;33m=\u001b[0m \u001b[0mself\u001b[0m\u001b[1;33m.\u001b[0m\u001b[0mcolumns\u001b[0m\u001b[1;33m.\u001b[0m\u001b[0mget_loc\u001b[0m\u001b[1;33m(\u001b[0m\u001b[0mkey\u001b[0m\u001b[1;33m)\u001b[0m\u001b[1;33m\u001b[0m\u001b[0m\n\u001b[0m\u001b[0;32m   2903\u001b[0m             \u001b[1;32mif\u001b[0m \u001b[0mis_integer\u001b[0m\u001b[1;33m(\u001b[0m\u001b[0mindexer\u001b[0m\u001b[1;33m)\u001b[0m\u001b[1;33m:\u001b[0m\u001b[1;33m\u001b[0m\u001b[0m\n\u001b[0;32m   2904\u001b[0m                 \u001b[0mindexer\u001b[0m \u001b[1;33m=\u001b[0m \u001b[1;33m[\u001b[0m\u001b[0mindexer\u001b[0m\u001b[1;33m]\u001b[0m\u001b[1;33m\u001b[0m\u001b[0m\n",
      "\u001b[1;32mc:\\users\\123\\appdata\\local\\programs\\python\\python37\\lib\\site-packages\\pandas\\core\\indexes\\base.py\u001b[0m in \u001b[0;36mget_loc\u001b[1;34m(self, key, method, tolerance)\u001b[0m\n\u001b[0;32m   2889\u001b[0m             \u001b[0mcasted_key\u001b[0m \u001b[1;33m=\u001b[0m \u001b[0mself\u001b[0m\u001b[1;33m.\u001b[0m\u001b[0m_maybe_cast_indexer\u001b[0m\u001b[1;33m(\u001b[0m\u001b[0mkey\u001b[0m\u001b[1;33m)\u001b[0m\u001b[1;33m\u001b[0m\u001b[0m\n\u001b[0;32m   2890\u001b[0m             \u001b[1;32mtry\u001b[0m\u001b[1;33m:\u001b[0m\u001b[1;33m\u001b[0m\u001b[0m\n\u001b[1;32m-> 2891\u001b[1;33m                 \u001b[1;32mreturn\u001b[0m \u001b[0mself\u001b[0m\u001b[1;33m.\u001b[0m\u001b[0m_engine\u001b[0m\u001b[1;33m.\u001b[0m\u001b[0mget_loc\u001b[0m\u001b[1;33m(\u001b[0m\u001b[0mcasted_key\u001b[0m\u001b[1;33m)\u001b[0m\u001b[1;33m\u001b[0m\u001b[0m\n\u001b[0m\u001b[0;32m   2892\u001b[0m             \u001b[1;32mexcept\u001b[0m \u001b[0mKeyError\u001b[0m \u001b[1;32mas\u001b[0m \u001b[0merr\u001b[0m\u001b[1;33m:\u001b[0m\u001b[1;33m\u001b[0m\u001b[0m\n\u001b[0;32m   2893\u001b[0m                 \u001b[1;32mraise\u001b[0m \u001b[0mKeyError\u001b[0m\u001b[1;33m(\u001b[0m\u001b[0mkey\u001b[0m\u001b[1;33m)\u001b[0m \u001b[1;32mfrom\u001b[0m \u001b[0merr\u001b[0m\u001b[1;33m\u001b[0m\u001b[0m\n",
      "\u001b[1;31mKeyError\u001b[0m: 'close'"
     ]
    }
   ],
   "source": [
    "changan['close'].plot(legend=True,figsize=(10,4))"
   ]
  },
  {
   "cell_type": "code",
   "execution_count": 78,
   "metadata": {},
   "outputs": [
    {
     "ename": "KeyError",
     "evalue": "'volume'",
     "output_type": "error",
     "traceback": [
      "\u001b[1;31m---------------------------------------------------------------------------\u001b[0m",
      "\u001b[1;31mKeyError\u001b[0m                                  Traceback (most recent call last)",
      "\u001b[1;32mc:\\users\\123\\appdata\\local\\programs\\python\\python37\\lib\\site-packages\\pandas\\core\\indexes\\base.py\u001b[0m in \u001b[0;36mget_loc\u001b[1;34m(self, key, method, tolerance)\u001b[0m\n\u001b[0;32m   2888\u001b[0m                 )\n\u001b[1;32m-> 2889\u001b[1;33m             \u001b[0mcasted_key\u001b[0m \u001b[1;33m=\u001b[0m \u001b[0mself\u001b[0m\u001b[1;33m.\u001b[0m\u001b[0m_maybe_cast_indexer\u001b[0m\u001b[1;33m(\u001b[0m\u001b[0mkey\u001b[0m\u001b[1;33m)\u001b[0m\u001b[1;33m\u001b[0m\u001b[0m\n\u001b[0m\u001b[0;32m   2890\u001b[0m             \u001b[1;32mtry\u001b[0m\u001b[1;33m:\u001b[0m\u001b[1;33m\u001b[0m\u001b[0m\n",
      "\u001b[1;32mpandas\\_libs\\index.pyx\u001b[0m in \u001b[0;36mpandas._libs.index.IndexEngine.get_loc\u001b[1;34m()\u001b[0m\n",
      "\u001b[1;32mpandas\\_libs\\index.pyx\u001b[0m in \u001b[0;36mpandas._libs.index.IndexEngine.get_loc\u001b[1;34m()\u001b[0m\n",
      "\u001b[1;32mpandas\\_libs\\hashtable_class_helper.pxi\u001b[0m in \u001b[0;36mpandas._libs.hashtable.PyObjectHashTable.get_item\u001b[1;34m()\u001b[0m\n",
      "\u001b[1;32mpandas\\_libs\\hashtable_class_helper.pxi\u001b[0m in \u001b[0;36mpandas._libs.hashtable.PyObjectHashTable.get_item\u001b[1;34m()\u001b[0m\n",
      "\u001b[1;31mKeyError\u001b[0m: 'volume'",
      "\nThe above exception was the direct cause of the following exception:\n",
      "\u001b[1;31mKeyError\u001b[0m                                  Traceback (most recent call last)",
      "\u001b[1;32m<ipython-input-78-e6075d464382>\u001b[0m in \u001b[0;36m<module>\u001b[1;34m\u001b[0m\n\u001b[1;32m----> 1\u001b[1;33m \u001b[0mchangan\u001b[0m\u001b[1;33m[\u001b[0m\u001b[1;34m'volume'\u001b[0m\u001b[1;33m]\u001b[0m\u001b[1;33m.\u001b[0m\u001b[0mplot\u001b[0m\u001b[1;33m(\u001b[0m\u001b[0mlegend\u001b[0m\u001b[1;33m=\u001b[0m\u001b[1;32mTrue\u001b[0m\u001b[1;33m,\u001b[0m\u001b[0mfigsize\u001b[0m\u001b[1;33m=\u001b[0m\u001b[1;33m(\u001b[0m\u001b[1;36m10\u001b[0m\u001b[1;33m,\u001b[0m\u001b[1;36m4\u001b[0m\u001b[1;33m)\u001b[0m\u001b[1;33m)\u001b[0m\u001b[1;33m\u001b[0m\u001b[0m\n\u001b[0m",
      "\u001b[1;32mc:\\users\\123\\appdata\\local\\programs\\python\\python37\\lib\\site-packages\\pandas\\core\\frame.py\u001b[0m in \u001b[0;36m__getitem__\u001b[1;34m(self, key)\u001b[0m\n\u001b[0;32m   2900\u001b[0m             \u001b[1;32mif\u001b[0m \u001b[0mself\u001b[0m\u001b[1;33m.\u001b[0m\u001b[0mcolumns\u001b[0m\u001b[1;33m.\u001b[0m\u001b[0mnlevels\u001b[0m \u001b[1;33m>\u001b[0m \u001b[1;36m1\u001b[0m\u001b[1;33m:\u001b[0m\u001b[1;33m\u001b[0m\u001b[0m\n\u001b[0;32m   2901\u001b[0m                 \u001b[1;32mreturn\u001b[0m \u001b[0mself\u001b[0m\u001b[1;33m.\u001b[0m\u001b[0m_getitem_multilevel\u001b[0m\u001b[1;33m(\u001b[0m\u001b[0mkey\u001b[0m\u001b[1;33m)\u001b[0m\u001b[1;33m\u001b[0m\u001b[0m\n\u001b[1;32m-> 2902\u001b[1;33m             \u001b[0mindexer\u001b[0m \u001b[1;33m=\u001b[0m \u001b[0mself\u001b[0m\u001b[1;33m.\u001b[0m\u001b[0mcolumns\u001b[0m\u001b[1;33m.\u001b[0m\u001b[0mget_loc\u001b[0m\u001b[1;33m(\u001b[0m\u001b[0mkey\u001b[0m\u001b[1;33m)\u001b[0m\u001b[1;33m\u001b[0m\u001b[0m\n\u001b[0m\u001b[0;32m   2903\u001b[0m             \u001b[1;32mif\u001b[0m \u001b[0mis_integer\u001b[0m\u001b[1;33m(\u001b[0m\u001b[0mindexer\u001b[0m\u001b[1;33m)\u001b[0m\u001b[1;33m:\u001b[0m\u001b[1;33m\u001b[0m\u001b[0m\n\u001b[0;32m   2904\u001b[0m                 \u001b[0mindexer\u001b[0m \u001b[1;33m=\u001b[0m \u001b[1;33m[\u001b[0m\u001b[0mindexer\u001b[0m\u001b[1;33m]\u001b[0m\u001b[1;33m\u001b[0m\u001b[0m\n",
      "\u001b[1;32mc:\\users\\123\\appdata\\local\\programs\\python\\python37\\lib\\site-packages\\pandas\\core\\indexes\\base.py\u001b[0m in \u001b[0;36mget_loc\u001b[1;34m(self, key, method, tolerance)\u001b[0m\n\u001b[0;32m   2889\u001b[0m             \u001b[0mcasted_key\u001b[0m \u001b[1;33m=\u001b[0m \u001b[0mself\u001b[0m\u001b[1;33m.\u001b[0m\u001b[0m_maybe_cast_indexer\u001b[0m\u001b[1;33m(\u001b[0m\u001b[0mkey\u001b[0m\u001b[1;33m)\u001b[0m\u001b[1;33m\u001b[0m\u001b[0m\n\u001b[0;32m   2890\u001b[0m             \u001b[1;32mtry\u001b[0m\u001b[1;33m:\u001b[0m\u001b[1;33m\u001b[0m\u001b[0m\n\u001b[1;32m-> 2891\u001b[1;33m                 \u001b[1;32mreturn\u001b[0m \u001b[0mself\u001b[0m\u001b[1;33m.\u001b[0m\u001b[0m_engine\u001b[0m\u001b[1;33m.\u001b[0m\u001b[0mget_loc\u001b[0m\u001b[1;33m(\u001b[0m\u001b[0mcasted_key\u001b[0m\u001b[1;33m)\u001b[0m\u001b[1;33m\u001b[0m\u001b[0m\n\u001b[0m\u001b[0;32m   2892\u001b[0m             \u001b[1;32mexcept\u001b[0m \u001b[0mKeyError\u001b[0m \u001b[1;32mas\u001b[0m \u001b[0merr\u001b[0m\u001b[1;33m:\u001b[0m\u001b[1;33m\u001b[0m\u001b[0m\n\u001b[0;32m   2893\u001b[0m                 \u001b[1;32mraise\u001b[0m \u001b[0mKeyError\u001b[0m\u001b[1;33m(\u001b[0m\u001b[0mkey\u001b[0m\u001b[1;33m)\u001b[0m \u001b[1;32mfrom\u001b[0m \u001b[0merr\u001b[0m\u001b[1;33m\u001b[0m\u001b[0m\n",
      "\u001b[1;31mKeyError\u001b[0m: 'volume'"
     ]
    }
   ],
   "source": [
    "changan['volume'].plot(legend=True,figsize=(10,4))"
   ]
  },
  {
   "cell_type": "code",
   "execution_count": 14,
   "metadata": {},
   "outputs": [
    {
     "ename": "KeyError",
     "evalue": "'close'",
     "output_type": "error",
     "traceback": [
      "\u001b[1;31m---------------------------------------------------------------------------\u001b[0m",
      "\u001b[1;31mKeyError\u001b[0m                                  Traceback (most recent call last)",
      "\u001b[1;32mc:\\users\\123\\appdata\\local\\programs\\python\\python37\\lib\\site-packages\\pandas\\core\\indexes\\base.py\u001b[0m in \u001b[0;36mget_loc\u001b[1;34m(self, key, method, tolerance)\u001b[0m\n\u001b[0;32m   2890\u001b[0m             \u001b[1;32mtry\u001b[0m\u001b[1;33m:\u001b[0m\u001b[1;33m\u001b[0m\u001b[0m\n\u001b[1;32m-> 2891\u001b[1;33m                 \u001b[1;32mreturn\u001b[0m \u001b[0mself\u001b[0m\u001b[1;33m.\u001b[0m\u001b[0m_engine\u001b[0m\u001b[1;33m.\u001b[0m\u001b[0mget_loc\u001b[0m\u001b[1;33m(\u001b[0m\u001b[0mcasted_key\u001b[0m\u001b[1;33m)\u001b[0m\u001b[1;33m\u001b[0m\u001b[0m\n\u001b[0m\u001b[0;32m   2892\u001b[0m             \u001b[1;32mexcept\u001b[0m \u001b[0mKeyError\u001b[0m \u001b[1;32mas\u001b[0m \u001b[0merr\u001b[0m\u001b[1;33m:\u001b[0m\u001b[1;33m\u001b[0m\u001b[0m\n",
      "\u001b[1;32mpandas\\_libs\\index.pyx\u001b[0m in \u001b[0;36mpandas._libs.index.IndexEngine.get_loc\u001b[1;34m()\u001b[0m\n",
      "\u001b[1;32mpandas\\_libs\\index.pyx\u001b[0m in \u001b[0;36mpandas._libs.index.IndexEngine.get_loc\u001b[1;34m()\u001b[0m\n",
      "\u001b[1;32mpandas\\_libs\\hashtable_class_helper.pxi\u001b[0m in \u001b[0;36mpandas._libs.hashtable.PyObjectHashTable.get_item\u001b[1;34m()\u001b[0m\n",
      "\u001b[1;32mpandas\\_libs\\hashtable_class_helper.pxi\u001b[0m in \u001b[0;36mpandas._libs.hashtable.PyObjectHashTable.get_item\u001b[1;34m()\u001b[0m\n",
      "\u001b[1;31mKeyError\u001b[0m: 'close'",
      "\nThe above exception was the direct cause of the following exception:\n",
      "\u001b[1;31mKeyError\u001b[0m                                  Traceback (most recent call last)",
      "\u001b[1;32m<ipython-input-14-3d0b4d8b947e>\u001b[0m in \u001b[0;36m<module>\u001b[1;34m\u001b[0m\n\u001b[0;32m      3\u001b[0m \u001b[1;32mfor\u001b[0m \u001b[0mma\u001b[0m \u001b[1;32min\u001b[0m \u001b[0mma_day\u001b[0m\u001b[1;33m:\u001b[0m\u001b[1;33m\u001b[0m\u001b[0m\n\u001b[0;32m      4\u001b[0m     \u001b[0mcolumn_name\u001b[0m \u001b[1;33m=\u001b[0m \u001b[1;34m\"MA for %s days\"\u001b[0m \u001b[1;33m%\u001b[0m\u001b[1;33m(\u001b[0m\u001b[0mstr\u001b[0m\u001b[1;33m(\u001b[0m\u001b[0mma\u001b[0m\u001b[1;33m)\u001b[0m\u001b[1;33m)\u001b[0m\u001b[1;33m\u001b[0m\u001b[0m\n\u001b[1;32m----> 5\u001b[1;33m     \u001b[0mchangan\u001b[0m\u001b[1;33m[\u001b[0m\u001b[0mcolumn_name\u001b[0m\u001b[1;33m]\u001b[0m \u001b[1;33m=\u001b[0m \u001b[0mchangan\u001b[0m\u001b[1;33m[\u001b[0m\u001b[1;34m'close'\u001b[0m\u001b[1;33m]\u001b[0m\u001b[1;33m.\u001b[0m\u001b[0mrolling\u001b[0m\u001b[1;33m(\u001b[0m\u001b[0mwindow\u001b[0m\u001b[1;33m=\u001b[0m\u001b[0mma\u001b[0m\u001b[1;33m)\u001b[0m\u001b[1;33m.\u001b[0m\u001b[0mmean\u001b[0m\u001b[1;33m(\u001b[0m\u001b[1;33m)\u001b[0m\u001b[1;33m\u001b[0m\u001b[0m\n\u001b[0m\u001b[0;32m      6\u001b[0m     \u001b[1;31m#changan[column_name] = pd.rolling_mean(changan['close'],ma)\u001b[0m\u001b[1;33m\u001b[0m\u001b[1;33m\u001b[0m\u001b[0m\n",
      "\u001b[1;32mc:\\users\\123\\appdata\\local\\programs\\python\\python37\\lib\\site-packages\\pandas\\core\\frame.py\u001b[0m in \u001b[0;36m__getitem__\u001b[1;34m(self, key)\u001b[0m\n\u001b[0;32m   2900\u001b[0m             \u001b[1;32mif\u001b[0m \u001b[0mself\u001b[0m\u001b[1;33m.\u001b[0m\u001b[0mcolumns\u001b[0m\u001b[1;33m.\u001b[0m\u001b[0mnlevels\u001b[0m \u001b[1;33m>\u001b[0m \u001b[1;36m1\u001b[0m\u001b[1;33m:\u001b[0m\u001b[1;33m\u001b[0m\u001b[0m\n\u001b[0;32m   2901\u001b[0m                 \u001b[1;32mreturn\u001b[0m \u001b[0mself\u001b[0m\u001b[1;33m.\u001b[0m\u001b[0m_getitem_multilevel\u001b[0m\u001b[1;33m(\u001b[0m\u001b[0mkey\u001b[0m\u001b[1;33m)\u001b[0m\u001b[1;33m\u001b[0m\u001b[0m\n\u001b[1;32m-> 2902\u001b[1;33m             \u001b[0mindexer\u001b[0m \u001b[1;33m=\u001b[0m \u001b[0mself\u001b[0m\u001b[1;33m.\u001b[0m\u001b[0mcolumns\u001b[0m\u001b[1;33m.\u001b[0m\u001b[0mget_loc\u001b[0m\u001b[1;33m(\u001b[0m\u001b[0mkey\u001b[0m\u001b[1;33m)\u001b[0m\u001b[1;33m\u001b[0m\u001b[0m\n\u001b[0m\u001b[0;32m   2903\u001b[0m             \u001b[1;32mif\u001b[0m \u001b[0mis_integer\u001b[0m\u001b[1;33m(\u001b[0m\u001b[0mindexer\u001b[0m\u001b[1;33m)\u001b[0m\u001b[1;33m:\u001b[0m\u001b[1;33m\u001b[0m\u001b[0m\n\u001b[0;32m   2904\u001b[0m                 \u001b[0mindexer\u001b[0m \u001b[1;33m=\u001b[0m \u001b[1;33m[\u001b[0m\u001b[0mindexer\u001b[0m\u001b[1;33m]\u001b[0m\u001b[1;33m\u001b[0m\u001b[0m\n",
      "\u001b[1;32mc:\\users\\123\\appdata\\local\\programs\\python\\python37\\lib\\site-packages\\pandas\\core\\indexes\\base.py\u001b[0m in \u001b[0;36mget_loc\u001b[1;34m(self, key, method, tolerance)\u001b[0m\n\u001b[0;32m   2891\u001b[0m                 \u001b[1;32mreturn\u001b[0m \u001b[0mself\u001b[0m\u001b[1;33m.\u001b[0m\u001b[0m_engine\u001b[0m\u001b[1;33m.\u001b[0m\u001b[0mget_loc\u001b[0m\u001b[1;33m(\u001b[0m\u001b[0mcasted_key\u001b[0m\u001b[1;33m)\u001b[0m\u001b[1;33m\u001b[0m\u001b[0m\n\u001b[0;32m   2892\u001b[0m             \u001b[1;32mexcept\u001b[0m \u001b[0mKeyError\u001b[0m \u001b[1;32mas\u001b[0m \u001b[0merr\u001b[0m\u001b[1;33m:\u001b[0m\u001b[1;33m\u001b[0m\u001b[0m\n\u001b[1;32m-> 2893\u001b[1;33m                 \u001b[1;32mraise\u001b[0m \u001b[0mKeyError\u001b[0m\u001b[1;33m(\u001b[0m\u001b[0mkey\u001b[0m\u001b[1;33m)\u001b[0m \u001b[1;32mfrom\u001b[0m \u001b[0merr\u001b[0m\u001b[1;33m\u001b[0m\u001b[0m\n\u001b[0m\u001b[0;32m   2894\u001b[0m \u001b[1;33m\u001b[0m\u001b[0m\n\u001b[0;32m   2895\u001b[0m         \u001b[1;32mif\u001b[0m \u001b[0mtolerance\u001b[0m \u001b[1;32mis\u001b[0m \u001b[1;32mnot\u001b[0m \u001b[1;32mNone\u001b[0m\u001b[1;33m:\u001b[0m\u001b[1;33m\u001b[0m\u001b[0m\n",
      "\u001b[1;31mKeyError\u001b[0m: 'close'"
     ]
    }
   ],
   "source": [
    "ma_day = [10,20,50]\n",
    "\n",
    "for ma in ma_day:\n",
    "    column_name = \"MA for %s days\" %(str(ma))\n",
    "    changan[column_name] = changan['close'].rolling(window=ma).mean()\n",
    "    #changan[column_name] = pd.rolling_mean(changan['close'],ma)"
   ]
  },
  {
   "cell_type": "code",
   "execution_count": null,
   "metadata": {
    "collapsed": true
   },
   "outputs": [],
   "source": [
    "changan[['close','MA for 10 days','MA for 20 days','MA for 50 days']].plot(subplots=False,figsize=(10,4))"
   ]
  },
  {
   "cell_type": "code",
   "execution_count": null,
   "metadata": {
    "collapsed": true
   },
   "outputs": [],
   "source": [
    "changan['Daily Return'] = changan['close'].pct_change()\n",
    "changan['Daily Return'].plot(figsize=(10,4),legend=True,linestyle='--',marker='o')\n"
   ]
  },
  {
   "cell_type": "code",
   "execution_count": null,
   "metadata": {
    "collapsed": true
   },
   "outputs": [],
   "source": [
    "sns.distplot(changan['Daily Return'].dropna(),bins=100, color = 'purple');"
   ]
  },
  {
   "cell_type": "code",
   "execution_count": null,
   "metadata": {
    "collapsed": true
   },
   "outputs": [],
   "source": [
    "changan['Daily Return'].hist(bins=100)"
   ]
  },
  {
   "cell_type": "code",
   "execution_count": null,
   "metadata": {
    "collapsed": true
   },
   "outputs": [],
   "source": [
    "#gqjt=pd.read_csv('../data/gqjt_2016.csv',index_col='date',parse_dates=True)"
   ]
  },
  {
   "cell_type": "code",
   "execution_count": null,
   "metadata": {
    "collapsed": true
   },
   "outputs": [],
   "source": [
    "closing_df = pd.DataFrame({'changan':changan['close'],'gqjt':gqjt['close'],'byd':byd['close']})"
   ]
  },
  {
   "cell_type": "code",
   "execution_count": null,
   "metadata": {
    "collapsed": true
   },
   "outputs": [],
   "source": [
    "closing_df.head()"
   ]
  },
  {
   "cell_type": "code",
   "execution_count": null,
   "metadata": {
    "collapsed": true
   },
   "outputs": [],
   "source": [
    "auto_rets = closing_df.pct_change()"
   ]
  },
  {
   "cell_type": "code",
   "execution_count": null,
   "metadata": {
    "collapsed": true
   },
   "outputs": [],
   "source": [
    "auto_rets.head()"
   ]
  },
  {
   "cell_type": "code",
   "execution_count": null,
   "metadata": {
    "collapsed": true
   },
   "outputs": [],
   "source": [
    "sns.jointplot('changan','changan',auto_rets,\n",
    "              kind='scatter',color = 'seagreen')"
   ]
  },
  {
   "cell_type": "code",
   "execution_count": null,
   "metadata": {
    "collapsed": true
   },
   "outputs": [],
   "source": [
    "sns.jointplot('changan','byd',auto_rets,kind='scatter')"
   ]
  },
  {
   "cell_type": "code",
   "execution_count": null,
   "metadata": {
    "collapsed": true
   },
   "outputs": [],
   "source": [
    "sns.pairplot(auto_rets.dropna())"
   ]
  },
  {
   "cell_type": "code",
   "execution_count": null,
   "metadata": {
    "collapsed": true
   },
   "outputs": [],
   "source": [
    "sns.corrplot(closing_df,annot=True)"
   ]
  },
  {
   "cell_type": "code",
   "execution_count": null,
   "metadata": {
    "collapsed": true
   },
   "outputs": [],
   "source": [
    "corr=closing_df.corr()\n",
    "corr"
   ]
  },
  {
   "cell_type": "code",
   "execution_count": null,
   "metadata": {
    "collapsed": true
   },
   "outputs": [],
   "source": [
    "sns.heatmap(corr,annot=True)"
   ]
  },
  {
   "cell_type": "code",
   "execution_count": null,
   "metadata": {
    "collapsed": true
   },
   "outputs": [],
   "source": [
    "sns.heatmap?"
   ]
  }
 ],
 "metadata": {
  "anaconda-cloud": {},
  "kernelspec": {
   "display_name": "Python 3",
   "language": "python",
   "name": "python3"
  },
  "language_info": {
   "codemirror_mode": {
    "name": "ipython",
    "version": 3
   },
   "file_extension": ".py",
   "mimetype": "text/x-python",
   "name": "python",
   "nbconvert_exporter": "python",
   "pygments_lexer": "ipython3",
   "version": "3.7.0"
  }
 },
 "nbformat": 4,
 "nbformat_minor": 1
}
